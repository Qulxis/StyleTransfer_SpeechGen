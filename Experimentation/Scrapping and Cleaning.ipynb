{
 "cells": [
  {
   "cell_type": "code",
   "execution_count": 1,
   "id": "1e798fbe",
   "metadata": {},
   "outputs": [],
   "source": [
    "import os\n",
    "import numpy as np\n",
    "import re\n",
    "import pandas as pd\n",
    "from bs4 import BeautifulSoup\n",
    "from transformers import GPT2Model, GPT2Config\n",
    "import random"
   ]
  },
  {
   "cell_type": "markdown",
   "id": "5d521f40",
   "metadata": {},
   "source": [
    "# Scrap methods"
   ]
  },
  {
   "cell_type": "markdown",
   "id": "98f01117",
   "metadata": {},
   "source": [
    "### METHOD 1"
   ]
  },
  {
   "cell_type": "code",
   "execution_count": 1,
   "id": "bdcd817f",
   "metadata": {},
   "outputs": [],
   "source": [
    "# Setting variables to be used in format string command below\n",
    "tweet_count = 45900\n",
    "username = \"joerogan\""
   ]
  },
  {
   "cell_type": "code",
   "execution_count": 3,
   "id": "20572b58",
   "metadata": {},
   "outputs": [
    {
     "data": {
      "text/html": [
       "<div>\n",
       "<style scoped>\n",
       "    .dataframe tbody tr th:only-of-type {\n",
       "        vertical-align: middle;\n",
       "    }\n",
       "\n",
       "    .dataframe tbody tr th {\n",
       "        vertical-align: top;\n",
       "    }\n",
       "\n",
       "    .dataframe thead th {\n",
       "        text-align: right;\n",
       "    }\n",
       "</style>\n",
       "<table border=\"1\" class=\"dataframe\">\n",
       "  <thead>\n",
       "    <tr style=\"text-align: right;\">\n",
       "      <th></th>\n",
       "      <th>_type</th>\n",
       "      <th>url</th>\n",
       "      <th>date</th>\n",
       "      <th>content</th>\n",
       "      <th>renderedContent</th>\n",
       "      <th>id</th>\n",
       "      <th>user</th>\n",
       "      <th>replyCount</th>\n",
       "      <th>retweetCount</th>\n",
       "      <th>likeCount</th>\n",
       "      <th>...</th>\n",
       "      <th>media</th>\n",
       "      <th>retweetedTweet</th>\n",
       "      <th>quotedTweet</th>\n",
       "      <th>inReplyToTweetId</th>\n",
       "      <th>inReplyToUser</th>\n",
       "      <th>mentionedUsers</th>\n",
       "      <th>coordinates</th>\n",
       "      <th>place</th>\n",
       "      <th>hashtags</th>\n",
       "      <th>cashtags</th>\n",
       "    </tr>\n",
       "  </thead>\n",
       "  <tbody>\n",
       "    <tr>\n",
       "      <th>0</th>\n",
       "      <td>snscrape.modules.twitter.Tweet</td>\n",
       "      <td>https://twitter.com/joerogan/status/1589734210...</td>\n",
       "      <td>2022-11-07 21:39:06+00:00</td>\n",
       "      <td>Austin! I’m at the ⁦@creekandcave⁩ Thursday ni...</td>\n",
       "      <td>Austin! I’m at the ⁦@creekandcave⁩ Thursday ni...</td>\n",
       "      <td>1589734210239139841</td>\n",
       "      <td>{'_type': 'snscrape.modules.twitter.User', 'us...</td>\n",
       "      <td>388</td>\n",
       "      <td>90</td>\n",
       "      <td>1643</td>\n",
       "      <td>...</td>\n",
       "      <td>None</td>\n",
       "      <td>NaN</td>\n",
       "      <td>None</td>\n",
       "      <td>NaN</td>\n",
       "      <td>None</td>\n",
       "      <td>[{'_type': 'snscrape.modules.twitter.User', 'u...</td>\n",
       "      <td>NaN</td>\n",
       "      <td>NaN</td>\n",
       "      <td>None</td>\n",
       "      <td>NaN</td>\n",
       "    </tr>\n",
       "    <tr>\n",
       "      <th>1</th>\n",
       "      <td>snscrape.modules.twitter.Tweet</td>\n",
       "      <td>https://twitter.com/joerogan/status/1587899211...</td>\n",
       "      <td>2022-11-02 20:07:28+00:00</td>\n",
       "      <td>Ari Shaffir - JEW (2022) FULL SPECIAL https://...</td>\n",
       "      <td>Ari Shaffir - JEW (2022) FULL SPECIAL youtu.be...</td>\n",
       "      <td>1587899211852414980</td>\n",
       "      <td>{'_type': 'snscrape.modules.twitter.User', 'us...</td>\n",
       "      <td>424</td>\n",
       "      <td>285</td>\n",
       "      <td>2477</td>\n",
       "      <td>...</td>\n",
       "      <td>None</td>\n",
       "      <td>NaN</td>\n",
       "      <td>None</td>\n",
       "      <td>NaN</td>\n",
       "      <td>None</td>\n",
       "      <td>[{'_type': 'snscrape.modules.twitter.User', 'u...</td>\n",
       "      <td>NaN</td>\n",
       "      <td>NaN</td>\n",
       "      <td>None</td>\n",
       "      <td>NaN</td>\n",
       "    </tr>\n",
       "    <tr>\n",
       "      <th>2</th>\n",
       "      <td>snscrape.modules.twitter.Tweet</td>\n",
       "      <td>https://twitter.com/joerogan/status/1586798619...</td>\n",
       "      <td>2022-10-30 19:14:06+00:00</td>\n",
       "      <td>Austin! Thursday night I’m at ⁦@creekandcave⁩ ...</td>\n",
       "      <td>Austin! Thursday night I’m at ⁦@creekandcave⁩ ...</td>\n",
       "      <td>1586798619235356678</td>\n",
       "      <td>{'_type': 'snscrape.modules.twitter.User', 'us...</td>\n",
       "      <td>400</td>\n",
       "      <td>86</td>\n",
       "      <td>1525</td>\n",
       "      <td>...</td>\n",
       "      <td>None</td>\n",
       "      <td>NaN</td>\n",
       "      <td>None</td>\n",
       "      <td>NaN</td>\n",
       "      <td>None</td>\n",
       "      <td>[{'_type': 'snscrape.modules.twitter.User', 'u...</td>\n",
       "      <td>NaN</td>\n",
       "      <td>NaN</td>\n",
       "      <td>None</td>\n",
       "      <td>NaN</td>\n",
       "    </tr>\n",
       "    <tr>\n",
       "      <th>3</th>\n",
       "      <td>snscrape.modules.twitter.Tweet</td>\n",
       "      <td>https://twitter.com/joerogan/status/1586247301...</td>\n",
       "      <td>2022-10-29 06:43:22+00:00</td>\n",
       "      <td>https://t.co/p5v5vzhRv8</td>\n",
       "      <td>bestlifeonline.com/news-first-kno…</td>\n",
       "      <td>1586247301470818306</td>\n",
       "      <td>{'_type': 'snscrape.modules.twitter.User', 'us...</td>\n",
       "      <td>569</td>\n",
       "      <td>366</td>\n",
       "      <td>4910</td>\n",
       "      <td>...</td>\n",
       "      <td>None</td>\n",
       "      <td>NaN</td>\n",
       "      <td>None</td>\n",
       "      <td>NaN</td>\n",
       "      <td>None</td>\n",
       "      <td>None</td>\n",
       "      <td>NaN</td>\n",
       "      <td>NaN</td>\n",
       "      <td>None</td>\n",
       "      <td>NaN</td>\n",
       "    </tr>\n",
       "    <tr>\n",
       "      <th>4</th>\n",
       "      <td>snscrape.modules.twitter.Tweet</td>\n",
       "      <td>https://twitter.com/joerogan/status/1586042786...</td>\n",
       "      <td>2022-10-28 17:10:42+00:00</td>\n",
       "      <td>Astrophysicists make observations consistent w...</td>\n",
       "      <td>Astrophysicists make observations consistent w...</td>\n",
       "      <td>1586042786901549056</td>\n",
       "      <td>{'_type': 'snscrape.modules.twitter.User', 'us...</td>\n",
       "      <td>494</td>\n",
       "      <td>643</td>\n",
       "      <td>6115</td>\n",
       "      <td>...</td>\n",
       "      <td>None</td>\n",
       "      <td>NaN</td>\n",
       "      <td>None</td>\n",
       "      <td>NaN</td>\n",
       "      <td>None</td>\n",
       "      <td>None</td>\n",
       "      <td>NaN</td>\n",
       "      <td>NaN</td>\n",
       "      <td>None</td>\n",
       "      <td>NaN</td>\n",
       "    </tr>\n",
       "  </tbody>\n",
       "</table>\n",
       "<p>5 rows × 28 columns</p>\n",
       "</div>"
      ],
      "text/plain": [
       "                            _type  \\\n",
       "0  snscrape.modules.twitter.Tweet   \n",
       "1  snscrape.modules.twitter.Tweet   \n",
       "2  snscrape.modules.twitter.Tweet   \n",
       "3  snscrape.modules.twitter.Tweet   \n",
       "4  snscrape.modules.twitter.Tweet   \n",
       "\n",
       "                                                 url  \\\n",
       "0  https://twitter.com/joerogan/status/1589734210...   \n",
       "1  https://twitter.com/joerogan/status/1587899211...   \n",
       "2  https://twitter.com/joerogan/status/1586798619...   \n",
       "3  https://twitter.com/joerogan/status/1586247301...   \n",
       "4  https://twitter.com/joerogan/status/1586042786...   \n",
       "\n",
       "                       date  \\\n",
       "0 2022-11-07 21:39:06+00:00   \n",
       "1 2022-11-02 20:07:28+00:00   \n",
       "2 2022-10-30 19:14:06+00:00   \n",
       "3 2022-10-29 06:43:22+00:00   \n",
       "4 2022-10-28 17:10:42+00:00   \n",
       "\n",
       "                                             content  \\\n",
       "0  Austin! I’m at the ⁦@creekandcave⁩ Thursday ni...   \n",
       "1  Ari Shaffir - JEW (2022) FULL SPECIAL https://...   \n",
       "2  Austin! Thursday night I’m at ⁦@creekandcave⁩ ...   \n",
       "3                            https://t.co/p5v5vzhRv8   \n",
       "4  Astrophysicists make observations consistent w...   \n",
       "\n",
       "                                     renderedContent                   id  \\\n",
       "0  Austin! I’m at the ⁦@creekandcave⁩ Thursday ni...  1589734210239139841   \n",
       "1  Ari Shaffir - JEW (2022) FULL SPECIAL youtu.be...  1587899211852414980   \n",
       "2  Austin! Thursday night I’m at ⁦@creekandcave⁩ ...  1586798619235356678   \n",
       "3                 bestlifeonline.com/news-first-kno…  1586247301470818306   \n",
       "4  Astrophysicists make observations consistent w...  1586042786901549056   \n",
       "\n",
       "                                                user  replyCount  \\\n",
       "0  {'_type': 'snscrape.modules.twitter.User', 'us...         388   \n",
       "1  {'_type': 'snscrape.modules.twitter.User', 'us...         424   \n",
       "2  {'_type': 'snscrape.modules.twitter.User', 'us...         400   \n",
       "3  {'_type': 'snscrape.modules.twitter.User', 'us...         569   \n",
       "4  {'_type': 'snscrape.modules.twitter.User', 'us...         494   \n",
       "\n",
       "   retweetCount  likeCount  ...  media  retweetedTweet quotedTweet  \\\n",
       "0            90       1643  ...   None             NaN        None   \n",
       "1           285       2477  ...   None             NaN        None   \n",
       "2            86       1525  ...   None             NaN        None   \n",
       "3           366       4910  ...   None             NaN        None   \n",
       "4           643       6115  ...   None             NaN        None   \n",
       "\n",
       "  inReplyToTweetId inReplyToUser  \\\n",
       "0              NaN          None   \n",
       "1              NaN          None   \n",
       "2              NaN          None   \n",
       "3              NaN          None   \n",
       "4              NaN          None   \n",
       "\n",
       "                                      mentionedUsers coordinates place  \\\n",
       "0  [{'_type': 'snscrape.modules.twitter.User', 'u...         NaN   NaN   \n",
       "1  [{'_type': 'snscrape.modules.twitter.User', 'u...         NaN   NaN   \n",
       "2  [{'_type': 'snscrape.modules.twitter.User', 'u...         NaN   NaN   \n",
       "3                                               None         NaN   NaN   \n",
       "4                                               None         NaN   NaN   \n",
       "\n",
       "  hashtags  cashtags  \n",
       "0     None       NaN  \n",
       "1     None       NaN  \n",
       "2     None       NaN  \n",
       "3     None       NaN  \n",
       "4     None       NaN  \n",
       "\n",
       "[5 rows x 28 columns]"
      ]
     },
     "execution_count": 3,
     "metadata": {},
     "output_type": "execute_result"
    }
   ],
   "source": [
    "#Note: runtime is around 5 minutes\n",
    "# Using OS library to call CLI commands in Python\n",
    "os.system(\"snscrape --jsonl --max-results {} twitter-search 'from:{}'> user-tweets.json\".format(tweet_count, username))\n",
    "# Reads the json generated from the CLI command above and creates a pandas dataframe\n",
    "tweets_df1 = pd.read_json('user-tweets.json', lines=True)\n",
    "\n",
    "# Displays first 5 entries from dataframe\n",
    "tweets_df1.head()"
   ]
  },
  {
   "cell_type": "code",
   "execution_count": 4,
   "id": "03f33a48",
   "metadata": {},
   "outputs": [],
   "source": [
    "#save raw\n",
    "file_name = \"data/tweets_{user}_{count}_m1\".format(user = username, count = tweet_count)\n",
    "tweets_df1.to_csv(file_name+\".csv\", sep=',', index=False)"
   ]
  },
  {
   "cell_type": "markdown",
   "id": "71353ae0",
   "metadata": {},
   "source": [
    "### Method 2\n",
    "Not using as not enough information"
   ]
  },
  {
   "cell_type": "code",
   "execution_count": null,
   "id": "ece0daf3",
   "metadata": {},
   "outputs": [],
   "source": [
    "# Run the pip install command below if you don't already have the library\n",
    "# !pip install git+https://github.com/JustAnotherArchivist/snscrape.git\n",
    "\n",
    "# Run the below command if you don't already have Pandas\n",
    "# !pip install pandas\n",
    "\n",
    "# Imports\n",
    "import snscrape.modules.twitter as sntwitter\n",
    "import pandas as pd\n"
   ]
  },
  {
   "cell_type": "code",
   "execution_count": null,
   "id": "d2e1147a",
   "metadata": {},
   "outputs": [],
   "source": []
  },
  {
   "cell_type": "code",
   "execution_count": null,
   "id": "4a782b9a",
   "metadata": {},
   "outputs": [],
   "source": [
    "# Creating a dataframe from the tweets list above\n",
    "tweets_df1 = pd.DataFrame(tweets_list1, columns=['Datetime', 'Tweet Id', 'Text', 'Username'])\n",
    "tweets_df2 = pd.DataFrame(tweets_list1)\n",
    "# Display first 5 entries from dataframe\n",
    "tweets_df2.head()"
   ]
  },
  {
   "cell_type": "code",
   "execution_count": null,
   "id": "245a8054",
   "metadata": {},
   "outputs": [],
   "source": [
    "# Export dataframe into a CSV\n",
    "file_name = \"data/\"+\"tweets_{user}_{count}_m1\".format(user = username, count = maxTweets)\n",
    "tweets_df2.to_csv('user-tweets2.csv', sep=',', index=False)"
   ]
  },
  {
   "cell_type": "code",
   "execution_count": null,
   "id": "6a46d994",
   "metadata": {},
   "outputs": [],
   "source": [
    "tweets_df1.iloc[:, 2]\n",
    "# raw_html = tweets_df1.iloc[0, 2]"
   ]
  },
  {
   "cell_type": "code",
   "execution_count": null,
   "id": "9d4ea9d0",
   "metadata": {},
   "outputs": [],
   "source": [
    "#Clean text experiment:\n",
    "\n",
    "print(\"original\\n\", tweets_df1.iloc[0, 2])\n",
    "\n",
    "clean_text = BeautifulSoup( tweets_df1.iloc[0, 2], \"lxml\").get_text(strip=True)\n",
    "print(\"filtered\\n\",clean_text)"
   ]
  },
  {
   "cell_type": "markdown",
   "id": "b884f401",
   "metadata": {},
   "source": [
    "## Cleaning dataset (method 1 data)\n",
    "1. Remove all retweets\n",
    "Filter text\n",
    "1. Remove all url and picture links\n",
    "2. Remove short tweets\n",
    "3. Remove extra spaces \n",
    "4. Special character encoding\n",
    "\n",
    "Save File \n",
    "4. Save to csv file"
   ]
  },
  {
   "cell_type": "code",
   "execution_count": 2,
   "id": "a17d7c87",
   "metadata": {},
   "outputs": [
    {
     "name": "stderr",
     "output_type": "stream",
     "text": [
      "C:\\Users\\andre\\AppData\\Local\\Temp\\ipykernel_17672\\1980682677.py:11: DtypeWarning: Columns (16,17,18,20) have mixed types. Specify dtype option on import or set low_memory=False.\n",
      "  data = pd.read_csv(file_name)\n",
      "c:\\Users\\andre\\AppData\\Local\\Programs\\Python\\Python39\\lib\\site-packages\\bs4\\__init__.py:435: MarkupResemblesLocatorWarning: The input looks more like a filename than markup. You may want to open this file and pass the filehandle into Beautiful Soup.\n",
      "  warnings.warn(\n"
     ]
    }
   ],
   "source": [
    "#import API\n",
    "from api.filter import filter_manual, gen_input\n",
    "import pandas as pd\n",
    "#Read in data \n",
    "# file_name = file_name+\".csv\" #Insert file here\n",
    "file_name = 'data/tweets_elonmusk_20000_m1.csv'\n",
    "lang_choice = 'en'\n",
    "length_min = 4 #minimum tweet length\n",
    "\n",
    "\n",
    "data = pd.read_csv(file_name)\n",
    "df = data[['date','renderedContent', 'lang', 'sourceLabel', 'outlinks','media','retweetedTweet','quotedTweet','inReplyToUser','place']].copy()\n",
    "\n",
    "#Filter then Save as csv and txt\n",
    "data_new = filter_manual(df, length_min, lang_choice)\n",
    "data_new_lst = []\n",
    "data_new_lst.append(data_new)\n",
    "epochs = 4 #Shuffle parameter, see gen_input\n",
    "data_save = gen_input(data_new_lst,epochs)\n",
    "#TXT:\n",
    "with open(\"data/\"+\"cleaned_{user}_{count}\".format(user = username, count = tweet_count)+'.txt', 'w',encoding='utf-8') as f:\n",
    "    # for tweet in data_new:\n",
    "    #     f.write(tweet)\n",
    "    #     # print(tweet,\"AHHH\")\n",
    "    #     f.write('\\n')\n",
    "    f.write(data_save)\n",
    "\n",
    "    f.close()\n",
    "\n",
    "\n",
    "df_clean = pd.DataFrame(data_new,columns=[\"Tweets\"])\n",
    "file_name = \"data/\"+\"cleaned_{user}_{count}_m1\".format(user = username, count = tweet_count)\n",
    "df_clean.to_csv(file_name+\".csv\", sep=',', index=False)"
   ]
  },
  {
   "attachments": {},
   "cell_type": "markdown",
   "id": "3cc641a1",
   "metadata": {},
   "source": [
    "# Politeness filtering"
   ]
  },
  {
   "cell_type": "code",
   "execution_count": 1,
   "id": "936acb02",
   "metadata": {},
   "outputs": [
    {
     "name": "stdout",
     "output_type": "stream",
     "text": [
      "Dataset already exists at C:\\Users\\andre\\.convokit\\downloads\\wikipedia-politeness-corpus\n"
     ]
    },
    {
     "name": "stderr",
     "output_type": "stream",
     "text": [
      "4956it [00:00, 16305.25it/s]\n"
     ]
    },
    {
     "name": "stdout",
     "output_type": "stream",
     "text": [
      "1000/4353 utterances processed\n",
      "2000/4353 utterances processed\n",
      "3000/4353 utterances processed\n",
      "4000/4353 utterances processed\n",
      "4353/4353 utterances processed\n",
      "1000/4956 utterances processed\n",
      "2000/4956 utterances processed\n",
      "3000/4956 utterances processed\n",
      "4000/4956 utterances processed\n",
      "4956/4956 utterances processed\n",
      "Initialized default classification model (standard scaled logistic regression).\n",
      "len 486\n"
     ]
    },
    {
     "data": {
      "image/png": "[encoded data removed]",
      "text/plain": [
       "<Figure size 640x480 with 1 Axes>"
      ]
     },
     "metadata": {},
     "output_type": "display_data"
    }
   ],
   "source": [
    "#import API\n",
    "from api.filter import filter_manual, gen_input\n",
    "from api.politeness import generate_politeness\n",
    "import pandas as pd\n",
    "#Read in data \n",
    "############################################################\n",
    "#PARAMETERS:\n",
    "username = 'SenSanders'\n",
    "tweet_count = 5000\n",
    "file_name = 'data/cleaned_SenSanders_5000_m1.csv'\n",
    "lang_choice = 'en'\n",
    "length_min = 4 #minimum tweet length\n",
    "#politeness params\n",
    "corpus_train = 'wikipedia'\n",
    "percentage_top_tweets = 0.25\n",
    "polite_or_impolite = 'polite'\n",
    "############################################################\n",
    "\n",
    "\n",
    "\n",
    "df = pd.read_csv(file_name)\n",
    "df_politeness = generate_politeness(df, corpus_train, percentage_top_tweets,polite_or_impolite) #choose by politeness\n",
    "print(\"number of data points\",len(df_politeness))\n",
    "data_new = df_politeness[\"Tweets\"]\n",
    "data_new_lst = []\n",
    "data_new_lst.append(data_new)\n",
    "epochs = 4 #Shuffle parameter, see gen_input\n",
    "data_save = gen_input(data_new_lst,epochs)\n",
    "\n",
    "with open(\"data/\"+\"{polite}_{user}_{count}_{perc}_finalnum{total}\".format(polite = polite_or_impolite, user = username, count = tweet_count,perc=percentage_top_tweets,total=len(df_politeness))+'.txt', 'w',encoding='utf-8') as f:\n",
    "    # for tweet in data_new:\n",
    "    #     f.write(tweet)\n",
    "    #     # print(tweet,\"AHHH\")\n",
    "    #     f.write('\\n')\n",
    "    f.write(data_save)\n",
    "\n",
    "    f.close()\n"
   ]
  },
  {
   "cell_type": "code",
   "execution_count": 5,
   "id": "3cb6e003",
   "metadata": {},
   "outputs": [],
   "source": [
    "username = 'SenSanders'\n",
    "tweet_count = 5000\n"
   ]
  },
  {
   "attachments": {},
   "cell_type": "markdown",
   "id": "cde44302",
   "metadata": {},
   "source": [
    "print(data_save)"
   ]
  },
  {
   "cell_type": "code",
   "execution_count": 228,
   "id": "4b323285",
   "metadata": {},
   "outputs": [
    {
     "name": "stdout",
     "output_type": "stream",
     "text": [
      "[3, 5, 7]\n"
     ]
    }
   ],
   "source": [
    "x = [1,2,3,4,5,6,7]\n",
    "# x[::-3] #flip/reverse and select every 3rd\n",
    "# print(x[1::][-1]) #all up to index [1,2,3,4]\n",
    "print(x[-5::2])\n",
    "\n",
    "\n",
    "\n"
   ]
  },
  {
   "cell_type": "markdown",
   "id": "8b1c9efb",
   "metadata": {},
   "source": []
  }
 ],
 "metadata": {
  "kernelspec": {
   "display_name": "Python 3.9.0 64-bit",
   "language": "python",
   "name": "python3"
  },
  "language_info": {
   "codemirror_mode": {
    "name": "ipython",
    "version": 3
   },
   "file_extension": ".py",
   "mimetype": "text/x-python",
   "name": "python",
   "nbconvert_exporter": "python",
   "pygments_lexer": "ipython3",
   "version": "3.9.13"
  },
  "vscode": {
   "interpreter": {
    "hash": "08e595c52ca3b9470036b1110e67b559e55f367cabc363f2e28d35631ed95060"
   }
  }
 },
 "nbformat": 4,
 "nbformat_minor": 5
}
