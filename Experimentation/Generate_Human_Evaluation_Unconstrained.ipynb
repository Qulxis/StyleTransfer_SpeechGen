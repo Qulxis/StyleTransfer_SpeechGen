{
 "cells": [
  {
   "attachments": {},
   "cell_type": "markdown",
   "metadata": {},
   "source": [
    "# Generate test sets for human evaluation\n",
    "This creates CSV files for human evaluation testing. This is for the non constrained forms"
   ]
  },
  {
   "cell_type": "code",
   "execution_count": 5,
   "metadata": {},
   "outputs": [],
   "source": [
    "import pandas as pd\n",
    "import numpy as np"
   ]
  },
  {
   "attachments": {},
   "cell_type": "markdown",
   "metadata": {},
   "source": [
    "Select the tags of the user. Must match the file name version. Case sensitive"
   ]
  },
  {
   "cell_type": "code",
   "execution_count": 2,
   "metadata": {},
   "outputs": [],
   "source": [
    "tag = [\"hankgreen\",\"joerogan\",\"paddingtonbear\", \"SenSanders\"]\n",
    "# polite_tag = [\"polite\", \"impolite\"]\n",
    "decoders = [\"beam\",\"diverse\",\"multinomial\", \"top\"]"
   ]
  },
  {
   "cell_type": "code",
   "execution_count": 6,
   "metadata": {},
   "outputs": [],
   "source": [
    "# Generate survey feedback files: saved in human_evals\n",
    "for name in tag:\n",
    "    for decoder in decoders:\n",
    "\n",
    "        # Polite\n",
    "        file_name_polite = 'responses/{name}_{politeness}_{decoder}.csv'.format(name=name, politeness = 'polite', decoder = decoder)\n",
    "        df_polite = pd.read_csv(file_name_polite, index_col = False)\n",
    "        # Impolite\n",
    "        file_name_impolite = 'responses/{name}_{politeness}_{decoder}.csv'.format(name=name, politeness = 'impolite', decoder = decoder)\n",
    "        df_impolite = pd.read_csv(file_name_impolite, index_col = False)\n",
    "\n",
    "        # Neutral\n",
    "        file_name_neutral = 'responses/{name}_{politeness}_{decoder}.csv'.format(name=name, politeness = 'neutral', decoder = decoder)\n",
    "        df_neutral = pd.read_csv(file_name_neutral,  index_col = False)\n",
    "        # print(df_polite.columns,df_impolite)\n",
    "\n",
    "        #Remove ID tag and gather values\n",
    "        df_head_all= df_polite[[\"Target\",\"Prompt\"]]\n",
    "        df_polite = df_polite[['Tweets']].reset_index()[[\"Tweets\"]]\n",
    "        df_impolite = df_impolite[['Tweets']].reset_index()[[\"Tweets\"]]\n",
    "        df_neutral = df_neutral[['Tweets']].reset_index()[[\"Tweets\"]]\n",
    "\n",
    "        # Order for variety\n",
    "        op_main1 = pd.concat([df_head_all,df_impolite, df_polite, df_neutral],axis=1)\n",
    "        op_main2 = pd.concat([df_head_all,df_polite, df_impolite, df_neutral],axis=1)\n",
    "        op_main3 = pd.concat([df_head_all, df_neutral, df_impolite, df_polite],axis=1)\n",
    "        op_main4 = pd.concat([df_head_all, df_neutral, df_polite, df_impolite],axis=1)\n",
    "        \n",
    "\n",
    "        # Save new files\n",
    "        op_main1.to_csv(\"human_evals/{tag}_op1_{d}.csv\".format(tag=name, d=decoder),index=False)\n",
    "        op_main2.to_csv(\"human_evals/{tag}_op2_{d}.csv\".format(tag=name, d=decoder),index=False)\n",
    "        op_main3.to_csv(\"human_evals/{tag}_op3_{d}.csv\".format(tag=name, d=decoder),index=False)\n",
    "        op_main4.to_csv(\"human_evals/{tag}_op4_{d}.csv\".format(tag=name, d=decoder),index=False)\n",
    "\n",
    "\n"
   ]
  }
 ],
 "metadata": {
  "kernelspec": {
   "display_name": "Python 3",
   "language": "python",
   "name": "python3"
  },
  "language_info": {
   "codemirror_mode": {
    "name": "ipython",
    "version": 3
   },
   "file_extension": ".py",
   "mimetype": "text/x-python",
   "name": "python",
   "nbconvert_exporter": "python",
   "pygments_lexer": "ipython3",
   "version": "3.9.13 (tags/v3.9.13:6de2ca5, May 17 2022, 16:36:42) [MSC v.1929 64 bit (AMD64)]"
  },
  "orig_nbformat": 4,
  "vscode": {
   "interpreter": {
    "hash": "08e595c52ca3b9470036b1110e67b559e55f367cabc363f2e28d35631ed95060"
   }
  }
 },
 "nbformat": 4,
 "nbformat_minor": 2
}
