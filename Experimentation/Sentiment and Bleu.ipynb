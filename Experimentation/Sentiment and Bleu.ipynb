{
 "cells": [
  {
   "cell_type": "markdown",
   "id": "9cab2605",
   "metadata": {},
   "source": [
    "## Similarity and Vader Sentiment\n"
   ]
  },
  {
   "cell_type": "code",
   "execution_count": 1,
   "id": "a58becec",
   "metadata": {},
   "outputs": [],
   "source": [
    "import os\n",
    "import pandas as pd\n",
    "import numpy as np\n",
    "from bs4 import BeautifulSoup\n",
    "from transformers import GPT2Model, GPT2Config\n",
    "from vaderSentiment.vaderSentiment import SentimentIntensityAnalyzer\n",
    "from nltk.translate.bleu_score import sentence_bleu\n",
    "from scipy import spatial\n",
    "\n",
    "#ref: https://www.digitalocean.com/community/tutorials/bleu-score-in-python"
   ]
  },
  {
   "cell_type": "code",
   "execution_count": null,
   "id": "10d23728",
   "metadata": {},
   "outputs": [],
   "source": [
    "# Setting variables to be used in format string command below\n",
    "tweet_count = 5000\n",
    "username = \"SenSanders\"\n",
    "\n",
    "# Using OS library to call CLI commands in Python\n",
    "os.system(\"snscrape --jsonl --max-results {} twitter-search 'from:{}'> user-tweets.json\".format(tweet_count, username))\n",
    "# Reads the json generated from the CLI command above and creates a pandas dataframe\n",
    "df = pd.read_json('user-tweets.json', lines=True)"
   ]
  },
  {
   "cell_type": "code",
   "execution_count": null,
   "id": "4c3989c9",
   "metadata": {},
   "outputs": [],
   "source": [
    "# df.iloc[0, 3]\n",
    "clean_text = BeautifulSoup(df.iloc[3901\n",
    "                                   , 3], \"lxml\").get_text(strip=True)\n",
    "print(clean_text)\n"
   ]
  },
  {
   "cell_type": "code",
   "execution_count": 21,
   "id": "d7d4c484",
   "metadata": {},
   "outputs": [],
   "source": [
    "#Compare text\n",
    "#link: https://huggingface.co/huggingtweets/sensanders\n",
    "lst_bernie = [\n",
    "    \"Republicans have been trying to overturn Roe v Wade for years. They've tried to defund public health, tax the rich, regulate Wall Street, dismantle voting rights and end reproductive freedom. Their agenda is absolutely clear: End the filibuster, codify voter ID laws, cut back on voting rights and stop voter suppression.\",\n",
    "    \"Republicans have been trying to overturn Roe v Wade for years. Now is the time to let them stand up and defeat a serious effort to overturn Roe v Wade.\",\n",
    "    \"Republicans have been trying to overturn Roe v Wade for nearly a century, yet we've never had the courage to stand up to them. We need a constitutional amendment now.\",\n",
    "    \"Republicans have been trying to overturn Roe v Wade for 45 years. This is outrageous. They need to change our political rules so we win elections today instead of tomorrow.\",\n",
    "    \"Republicans have been trying to overturn Roe v Wade and defund the ACA. They ignored Roe v. Wade and the court struck down Roe v. Wade. Abortion must be constitutional. This is how we end #ACA.\",\n",
    "    \"Republicans have been trying to overturn Roe v Wade. All states should be allowed to protect the constitutional right to abortion. But I’m not going to let this vote go forward.\",\n",
    "    \"Republicans have been trying to overturn Roe v Wade in America for weeks. If we can't defeat their efforts to overturn Roe v. Wade, I'll join Republicans who oppose every effort by the Republican-led GOP to overturn the law.\",\n",
    "    \"Republicans have been trying to overturn Roe v Wade and lower abortion rights for 20 years. They want to expand it—and now it's not even in a single legislation.\"\n",
    "    \"Republicans have been trying to overturn Roe v Wade for a century. Now they're trying to do precisely the opposite. They want to strip women of control over their reproductive lives, including abortion. They have always been about abortion.\"       \n",
    "]\n",
    "\n",
    "lst_mitch =[\n",
    "    \"Republicans have been trying to overturn Roe v Wade for over 60 years.\",\n",
    "    \"Republicans have been trying to overturn Roe v Wade, the Supreme Court of the United States, for years. We repealed it. Why did they still vote down an amendment to save a Supreme Court Justice?\",\n",
    "    \"Republicans have been trying to overturn Roe v Wade for four years. But this government hasn't stopped them from doing precisely what they say it will.\",\n",
    "    \"Republicans have been trying to overturn Roe v Wade. Now they're going to go out of business.\",\n",
    "    \"Republicans have been trying to overturn Roe v Wade. Now we need to get it done for a Republican president and for him to pass the Senate.\",\n",
    "    \"Republicans have been trying to overturn Roe v Wade for 60-plus years. But they have yet to break a single vote.\",\n",
    "    \"Republicans have been trying to overturn Roe v Wade for years. Now they are trying to undo the president's work to overturn our once-in-a-generation precedent. The Senate should be taking a serious step forward.\",\n",
    "    \"Republicans have been trying to overturn Roe v Wade for months. They haven't come up with anything tangible to show for it. Democrats want the Supreme Court to take a long-ago test.\",\n",
    "    \"Republicans have been trying to overturn Roe v Wade. And the Court has been working w/a range of bipartisan precedents to do so.\"\n",
    "    \n",
    "]\n",
    "original = \"Republicans have been trying to overturn Roe v Wade for more than 40 years. Now that they are on the verge of achieving their dream, they are downplaying the consequences. We’re not fooled.\"\n"
   ]
  },
  {
   "cell_type": "code",
   "execution_count": 13,
   "id": "37e13d7b",
   "metadata": {},
   "outputs": [],
   "source": [
    "sid = SentimentIntensityAnalyzer()\n",
    "output_score = sid.polarity_scores(original)\n",
    "output_vec = [output_score['neg'],output_score['neu'],output_score['pos'],output_score['compound']]\n",
    "# print(output_score)\n",
    "# result = 1 - spatial.distance.cosine(dataSetI, dataSetII) #similarity"
   ]
  },
  {
   "cell_type": "code",
   "execution_count": 22,
   "id": "3a2bea1c",
   "metadata": {},
   "outputs": [],
   "source": [
    "cos_comparison_bernie = []\n",
    "for text in lst_bernie:\n",
    "    score_raw = sid.polarity_scores(text)\n",
    "    score_vec = [score_raw['neg'],score_raw['neu'], score_raw['pos'], score_raw['compound']]\n",
    "    comparison = 1 - spatial.distance.cosine(output_vec, score_vec)\n",
    "    cos_comparison_bernie.append(comparison)\n",
    "    \n",
    "cos_comparison_mitch = []\n",
    "for text in lst_mitch:\n",
    "    score_raw = sid.polarity_scores(text)\n",
    "    score_vec = [score_raw['neg'],score_raw['neu'], score_raw['pos'], score_raw['compound']]\n",
    "    comparison = 1 - spatial.distance.cosine(output_vec, score_vec)\n",
    "    cos_comparison_mitch.append(comparison)\n",
    "    \n",
    "    \n",
    "    "
   ]
  },
  {
   "cell_type": "code",
   "execution_count": 26,
   "id": "466f2905",
   "metadata": {},
   "outputs": [
    {
     "name": "stdout",
     "output_type": "stream",
     "text": [
      "bernie scores \n",
      "  [0.9494470257340931, 0.49766984095311684, 0.6086343658646219, 0.978136735099123, 0.5078596086270153, 0.9548055828242721, 0.9980812853939334, 0.9504214123538041]\n",
      "mitch scores \n",
      "  [0.8674018809116603, 0.8821798403790246, 0.9695825782962749, 0.8674018809116603, 0.8674018809116603, 0.8674018809116603, 0.8252970163902711, 0.9949573844034968, 0.8674018809116603]\n"
     ]
    }
   ],
   "source": [
    "print(\"bernie scores \\n \", cos_comparison_bernie)\n",
    "\n",
    "print(\"mitch scores \\n \", cos_comparison_mitch)\n"
   ]
  },
  {
   "cell_type": "code",
   "execution_count": 27,
   "id": "18dd0c59",
   "metadata": {},
   "outputs": [
    {
     "name": "stdout",
     "output_type": "stream",
     "text": [
      "0.8056319821062474\n",
      "0.8898918026697077\n"
     ]
    }
   ],
   "source": [
    "print(np.average(cos_comparison_bernie))\n",
    "print(np.average(cos_comparison_mitch))"
   ]
  },
  {
   "cell_type": "code",
   "execution_count": null,
   "id": "0259f69e",
   "metadata": {},
   "outputs": [],
   "source": []
  },
  {
   "cell_type": "code",
   "execution_count": null,
   "id": "101a8802",
   "metadata": {},
   "outputs": [],
   "source": []
  }
 ],
 "metadata": {
  "kernelspec": {
   "display_name": "Python 3.8.10 64-bit (microsoft store)",
   "language": "python",
   "name": "python3"
  },
  "language_info": {
   "codemirror_mode": {
    "name": "ipython",
    "version": 3
   },
   "file_extension": ".py",
   "mimetype": "text/x-python",
   "name": "python",
   "nbconvert_exporter": "python",
   "pygments_lexer": "ipython3",
   "version": "3.8.10"
  },
  "vscode": {
   "interpreter": {
    "hash": "b6104b9ef548fb6d9511f20d537c633547ecc7a75660f1277dbb3ae9224e4856"
   }
  }
 },
 "nbformat": 4,
 "nbformat_minor": 5
}
