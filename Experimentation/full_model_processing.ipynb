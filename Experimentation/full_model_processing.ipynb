{
 "cells": [
  {
   "attachments": {},
   "cell_type": "markdown",
   "metadata": {},
   "source": [
    "# Full model processing:\n",
    "We compile everything to train a single model that takes in the user, the politeness, and two subject tokens.\n",
    "\n",
    "ex. \"<|user|><|polite|><|honey|><|iran|>I think honey from iran is delicious\""
   ]
  },
  {
   "attachments": {},
   "cell_type": "markdown",
   "metadata": {},
   "source": [
    "## Read in all files"
   ]
  },
  {
   "cell_type": "code",
   "execution_count": 27,
   "metadata": {},
   "outputs": [],
   "source": [
    "import os\n",
    "import numpy as np\n",
    "import re\n",
    "import pandas as pd\n",
    "from bs4 import BeautifulSoup\n",
    "from transformers import GPT2Model, GPT2Config\n",
    "import random\n",
    "#import API\n",
    "from api.filter import filter_manual, gen_input, gen_input_special_tokens, addTag\n",
    "from api.politeness import generate_politeness, generate_politeness_all\n",
    "import pandas as pd\n",
    "from api.tfidf_funcs import tfidf, get_Keywords, add_Keywords\n",
    "import pandas as pd\n",
    "import random\n",
    "from sklearn.model_selection import train_test_split\n",
    "\n",
    "\n",
    "#Stuff to run for first time:\n",
    "# python -m spacy download en_core_web_sm\n",
    "# pipip uninstall emoji\n",
    "# pip install emoji==1.7"
   ]
  },
  {
   "cell_type": "code",
   "execution_count": 2,
   "metadata": {},
   "outputs": [],
   "source": [
    "elonmusk = pd.read_csv(\"data/cleaned_elonmusk_20000_m1.csv\")\n",
    "hankgreen = pd.read_csv(\"data/cleaned_hankgreen_50000_m1.csv\")\n",
    "joerogan = pd.read_csv(\"data/cleaned_joerogan_45900_m1.csv\")\n",
    "paddingtonbear = pd.read_csv('data/cleaned_paddingtonbear_10300_m1.csv')\n",
    "sensanders = pd.read_csv('data/cleaned_SenSanders_23400_m1.csv')\n",
    "dic = {'elonmusk':elonmusk,'hankgreen':hankgreen,'joerogan':joerogan,'paddingtonbear':paddingtonbear,'sensanders':sensanders}"
   ]
  },
  {
   "attachments": {},
   "cell_type": "markdown",
   "metadata": {},
   "source": [
    "### Sort by politeness and add subject tokens\n"
   ]
  },
  {
   "cell_type": "code",
   "execution_count": 3,
   "metadata": {},
   "outputs": [
    {
     "name": "stdout",
     "output_type": "stream",
     "text": [
      "Dataset already exists at C:\\Users\\andre\\.convokit\\downloads\\wikipedia-politeness-corpus\n"
     ]
    },
    {
     "name": "stderr",
     "output_type": "stream",
     "text": [
      "12577it [00:00, 12969.74it/s]\n"
     ]
    },
    {
     "name": "stdout",
     "output_type": "stream",
     "text": [
      "1000/4353 utterances processed\n",
      "2000/4353 utterances processed\n",
      "3000/4353 utterances processed\n",
      "4000/4353 utterances processed\n",
      "4353/4353 utterances processed\n",
      "1000/12577 utterances processed\n",
      "2000/12577 utterances processed\n",
      "3000/12577 utterances processed\n",
      "4000/12577 utterances processed\n",
      "5000/12577 utterances processed\n",
      "6000/12577 utterances processed\n",
      "7000/12577 utterances processed\n",
      "8000/12577 utterances processed\n",
      "9000/12577 utterances processed\n",
      "10000/12577 utterances processed\n",
      "11000/12577 utterances processed\n",
      "12000/12577 utterances processed\n",
      "12577/12577 utterances processed\n",
      "Initialized default classification model (standard scaled logistic regression).\n"
     ]
    },
    {
     "name": "stderr",
     "output_type": "stream",
     "text": [
      "[nltk_data] Downloading package stopwords to\n",
      "[nltk_data]     C:\\Users\\andre\\AppData\\Roaming\\nltk_data...\n",
      "[nltk_data]   Package stopwords is already up-to-date!\n"
     ]
    },
    {
     "name": "stdout",
     "output_type": "stream",
     "text": [
      "Dataset already exists at C:\\Users\\andre\\.convokit\\downloads\\wikipedia-politeness-corpus\n"
     ]
    },
    {
     "name": "stderr",
     "output_type": "stream",
     "text": [
      "38068it [00:02, 16449.99it/s]\n"
     ]
    },
    {
     "name": "stdout",
     "output_type": "stream",
     "text": [
      "1000/4353 utterances processed\n",
      "2000/4353 utterances processed\n",
      "3000/4353 utterances processed\n",
      "4000/4353 utterances processed\n",
      "4353/4353 utterances processed\n",
      "1000/38068 utterances processed\n",
      "2000/38068 utterances processed\n",
      "3000/38068 utterances processed\n",
      "4000/38068 utterances processed\n",
      "5000/38068 utterances processed\n",
      "6000/38068 utterances processed\n",
      "7000/38068 utterances processed\n",
      "8000/38068 utterances processed\n",
      "9000/38068 utterances processed\n",
      "10000/38068 utterances processed\n",
      "11000/38068 utterances processed\n",
      "12000/38068 utterances processed\n",
      "13000/38068 utterances processed\n",
      "14000/38068 utterances processed\n",
      "15000/38068 utterances processed\n",
      "16000/38068 utterances processed\n",
      "17000/38068 utterances processed\n",
      "18000/38068 utterances processed\n",
      "19000/38068 utterances processed\n",
      "20000/38068 utterances processed\n",
      "21000/38068 utterances processed\n",
      "22000/38068 utterances processed\n",
      "23000/38068 utterances processed\n",
      "24000/38068 utterances processed\n",
      "25000/38068 utterances processed\n",
      "26000/38068 utterances processed\n",
      "27000/38068 utterances processed\n",
      "28000/38068 utterances processed\n",
      "29000/38068 utterances processed\n",
      "30000/38068 utterances processed\n",
      "31000/38068 utterances processed\n",
      "32000/38068 utterances processed\n",
      "33000/38068 utterances processed\n",
      "34000/38068 utterances processed\n",
      "35000/38068 utterances processed\n",
      "36000/38068 utterances processed\n",
      "37000/38068 utterances processed\n",
      "38000/38068 utterances processed\n",
      "38068/38068 utterances processed\n",
      "Initialized default classification model (standard scaled logistic regression).\n"
     ]
    },
    {
     "name": "stderr",
     "output_type": "stream",
     "text": [
      "[nltk_data] Downloading package stopwords to\n",
      "[nltk_data]     C:\\Users\\andre\\AppData\\Roaming\\nltk_data...\n",
      "[nltk_data]   Package stopwords is already up-to-date!\n"
     ]
    },
    {
     "name": "stdout",
     "output_type": "stream",
     "text": [
      "Dataset already exists at C:\\Users\\andre\\.convokit\\downloads\\wikipedia-politeness-corpus\n"
     ]
    },
    {
     "name": "stderr",
     "output_type": "stream",
     "text": [
      "31550it [00:03, 9712.33it/s] \n"
     ]
    },
    {
     "name": "stdout",
     "output_type": "stream",
     "text": [
      "1000/4353 utterances processed\n",
      "2000/4353 utterances processed\n",
      "3000/4353 utterances processed\n",
      "4000/4353 utterances processed\n",
      "4353/4353 utterances processed\n",
      "1000/31550 utterances processed\n",
      "2000/31550 utterances processed\n",
      "3000/31550 utterances processed\n",
      "4000/31550 utterances processed\n",
      "5000/31550 utterances processed\n",
      "6000/31550 utterances processed\n",
      "7000/31550 utterances processed\n",
      "8000/31550 utterances processed\n",
      "9000/31550 utterances processed\n",
      "10000/31550 utterances processed\n",
      "11000/31550 utterances processed\n",
      "12000/31550 utterances processed\n",
      "13000/31550 utterances processed\n",
      "14000/31550 utterances processed\n",
      "15000/31550 utterances processed\n",
      "16000/31550 utterances processed\n",
      "17000/31550 utterances processed\n",
      "18000/31550 utterances processed\n",
      "19000/31550 utterances processed\n",
      "20000/31550 utterances processed\n",
      "21000/31550 utterances processed\n",
      "22000/31550 utterances processed\n",
      "23000/31550 utterances processed\n",
      "24000/31550 utterances processed\n",
      "25000/31550 utterances processed\n",
      "26000/31550 utterances processed\n",
      "27000/31550 utterances processed\n",
      "28000/31550 utterances processed\n",
      "29000/31550 utterances processed\n",
      "30000/31550 utterances processed\n",
      "31000/31550 utterances processed\n",
      "31550/31550 utterances processed\n",
      "Initialized default classification model (standard scaled logistic regression).\n"
     ]
    },
    {
     "name": "stderr",
     "output_type": "stream",
     "text": [
      "[nltk_data] Downloading package stopwords to\n",
      "[nltk_data]     C:\\Users\\andre\\AppData\\Roaming\\nltk_data...\n",
      "[nltk_data]   Package stopwords is already up-to-date!\n"
     ]
    },
    {
     "name": "stdout",
     "output_type": "stream",
     "text": [
      "Dataset already exists at C:\\Users\\andre\\.convokit\\downloads\\wikipedia-politeness-corpus\n"
     ]
    },
    {
     "name": "stderr",
     "output_type": "stream",
     "text": [
      "4471it [00:00, 17971.92it/s]\n"
     ]
    },
    {
     "name": "stdout",
     "output_type": "stream",
     "text": [
      "1000/4353 utterances processed\n",
      "2000/4353 utterances processed\n",
      "3000/4353 utterances processed\n",
      "4000/4353 utterances processed\n",
      "4353/4353 utterances processed\n",
      "1000/4471 utterances processed\n",
      "2000/4471 utterances processed\n",
      "3000/4471 utterances processed\n",
      "4000/4471 utterances processed\n",
      "4471/4471 utterances processed\n",
      "Initialized default classification model (standard scaled logistic regression).\n"
     ]
    },
    {
     "name": "stderr",
     "output_type": "stream",
     "text": [
      "[nltk_data] Downloading package stopwords to\n",
      "[nltk_data]     C:\\Users\\andre\\AppData\\Roaming\\nltk_data...\n",
      "[nltk_data]   Package stopwords is already up-to-date!\n"
     ]
    },
    {
     "name": "stdout",
     "output_type": "stream",
     "text": [
      "Dataset already exists at C:\\Users\\andre\\.convokit\\downloads\\wikipedia-politeness-corpus\n"
     ]
    },
    {
     "name": "stderr",
     "output_type": "stream",
     "text": [
      "20174it [00:03, 5595.18it/s]\n"
     ]
    },
    {
     "name": "stdout",
     "output_type": "stream",
     "text": [
      "1000/4353 utterances processed\n",
      "2000/4353 utterances processed\n",
      "3000/4353 utterances processed\n",
      "4000/4353 utterances processed\n",
      "4353/4353 utterances processed\n",
      "1000/20174 utterances processed\n",
      "2000/20174 utterances processed\n",
      "3000/20174 utterances processed\n",
      "4000/20174 utterances processed\n",
      "5000/20174 utterances processed\n",
      "6000/20174 utterances processed\n",
      "7000/20174 utterances processed\n",
      "8000/20174 utterances processed\n",
      "9000/20174 utterances processed\n",
      "10000/20174 utterances processed\n",
      "11000/20174 utterances processed\n",
      "12000/20174 utterances processed\n",
      "13000/20174 utterances processed\n",
      "14000/20174 utterances processed\n",
      "15000/20174 utterances processed\n",
      "16000/20174 utterances processed\n",
      "17000/20174 utterances processed\n",
      "18000/20174 utterances processed\n",
      "19000/20174 utterances processed\n",
      "20000/20174 utterances processed\n",
      "20174/20174 utterances processed\n",
      "Initialized default classification model (standard scaled logistic regression).\n"
     ]
    },
    {
     "name": "stderr",
     "output_type": "stream",
     "text": [
      "[nltk_data] Downloading package stopwords to\n",
      "[nltk_data]     C:\\Users\\andre\\AppData\\Roaming\\nltk_data...\n",
      "[nltk_data]   Package stopwords is already up-to-date!\n"
     ]
    },
    {
     "data": {
      "image/png": "[encoded data removed]",
      "text/plain": [
       "<Figure size 640x480 with 1 Axes>"
      ]
     },
     "metadata": {},
     "output_type": "display_data"
    }
   ],
   "source": [
    "#Read in data \n",
    "############################################################\n",
    "corpus_train = 'wikipedia'\n",
    "############################################################\n",
    "all_keys = [\"<|undefined|>\"] #\"list of all keywords found\"\n",
    "\n",
    "for name in dic.keys():\n",
    "    df = dic[name] # get df\n",
    "    df_pos, df_neutral, df_neg = generate_politeness_all(name, df, corpus_train = 'wikipedia', polite_percent=0.75, impolite_percent=0.5)\n",
    "    #get subjects\n",
    "    keywords = []\n",
    "    cv, tfidf_transformer = tfidf(df) #get transformer and covar\n",
    "    #add keywords\n",
    "    df_pos, keys_pos = add_Keywords(df_pos,cv,tfidf_transformer)\n",
    "    df_neg,  keys_neg= add_Keywords(df_neg,cv,tfidf_transformer)\n",
    "    df_neutral, keys_neutral = add_Keywords(df_neutral, cv,tfidf_transformer)\n",
    "    name_tag = \"<|\"+name+\"|>\"\n",
    "    all_keys += keys_pos+keys_neg+keys_neutral\n",
    "\n",
    "    #Add politeness tag\n",
    "    df_polite = addTag(df_pos,name_tag+\"<|polite|>\")\n",
    "    df_neutral = addTag(df_neutral,name_tag+\"<|neutral|>\")\n",
    "    df_impolite = addTag(df_neg,name_tag+\"<|impolite|>\")\n",
    "\n",
    "    #Goto list for storage\n",
    "    polite = df_polite[\"Tweets\"].tolist()\n",
    "    impolite = df_impolite[\"Tweets\"].tolist()\n",
    "    neutral = df_neutral[\"Tweets\"].tolist()\n",
    "\n",
    "    #Save file\n",
    "    df_all = pd.DataFrame(columns=[\"Tweets\"])\n",
    "\n",
    "    df_all[\"Tweets\"] = polite+impolite+neutral\n",
    "    df_all.to_csv(\"data/special_token_versions/{}_all.csv\".format(name))\n",
    "#Save all keys for special tokens\n",
    "keys = pd.DataFrame(columns=[\"Keys\"])\n",
    "all_keys = list(set(all_keys))\n",
    "keys[\"Keys\"]= all_keys\n",
    "keys.to_csv('keys.csv')\n"
   ]
  },
  {
   "cell_type": "code",
   "execution_count": 19,
   "metadata": {},
   "outputs": [
    {
     "name": "stdout",
     "output_type": "stream",
     "text": [
      "       Unnamed: 0                                             Tweets\n",
      "0               0  <|elonmusk|><|polite|><|billgates|><|hear|>@re...\n",
      "1               1  <|elonmusk|><|polite|><|transopac|><|hi|>@nina...\n",
      "2               2  <|elonmusk|><|polite|><|rise|><|functionality|...\n",
      "3               3  <|elonmusk|><|polite|><|fun|><|hidden|>We’re g...\n",
      "4               4  <|elonmusk|><|polite|><|mean|><|part|>I mean, ...\n",
      "...           ...                                                ...\n",
      "11939       11939  <|elonmusk|><|neutral|><|head|><|undefined|>@K...\n",
      "11940       11940  <|elonmusk|><|neutral|><|constitutes|><|undefi...\n",
      "11941       11941  <|elonmusk|><|neutral|><|sophomore|><|soniasim...\n",
      "11942       11942  <|elonmusk|><|neutral|><|lanes|><|layers|>Fund...\n",
      "11943       11943  <|elonmusk|><|neutral|><|pocketsdog|><|omcinty...\n",
      "\n",
      "[11944 rows x 2 columns]\n"
     ]
    },
    {
     "name": "stderr",
     "output_type": "stream",
     "text": [
      "c:\\Users\\andre\\AppData\\Local\\Programs\\Python\\Python39\\lib\\random.py:362: SettingWithCopyWarning: \n",
      "A value is trying to be set on a copy of a slice from a DataFrame\n",
      "\n",
      "See the caveats in the documentation: https://pandas.pydata.org/pandas-docs/stable/user_guide/indexing.html#returning-a-view-versus-a-copy\n",
      "  x[i], x[j] = x[j], x[i]\n"
     ]
    },
    {
     "name": "stdout",
     "output_type": "stream",
     "text": [
      "       Unnamed: 0                                             Tweets\n",
      "0               0  <|hankgreen|><|polite|><|cool|><|something|>If...\n",
      "1               1  <|hankgreen|><|polite|><|vision|><|undefined|>...\n",
      "2               2  <|hankgreen|><|polite|><|arguments|><|undefine...\n",
      "3               3  <|hankgreen|><|polite|><|speakers|><|undefined...\n",
      "4               4  <|hankgreen|><|polite|><|secrets|><|motivation...\n",
      "...           ...                                                ...\n",
      "35682       35682  <|hankgreen|><|neutral|><|trading|><|undefined...\n",
      "35683       35683  <|hankgreen|><|neutral|><|experts|><|trust|>@k...\n",
      "35684       35684  <|hankgreen|><|neutral|><|podcasts|><|joseph|>...\n",
      "35685       35685  <|hankgreen|><|neutral|><|puke|><|undefined|>N...\n",
      "35686       35686  <|hankgreen|><|neutral|><|trust|><|agree|>Trus...\n",
      "\n",
      "[35687 rows x 2 columns]\n"
     ]
    },
    {
     "name": "stderr",
     "output_type": "stream",
     "text": [
      "c:\\Users\\andre\\AppData\\Local\\Programs\\Python\\Python39\\lib\\random.py:362: SettingWithCopyWarning: \n",
      "A value is trying to be set on a copy of a slice from a DataFrame\n",
      "\n",
      "See the caveats in the documentation: https://pandas.pydata.org/pandas-docs/stable/user_guide/indexing.html#returning-a-view-versus-a-copy\n",
      "  x[i], x[j] = x[j], x[i]\n"
     ]
    },
    {
     "name": "stdout",
     "output_type": "stream",
     "text": [
      "       Unnamed: 0                                             Tweets\n",
      "0               0  <|joerogan|><|polite|><|davidbix|><|undefined|...\n",
      "1               1  <|joerogan|><|polite|><|julesk_fighter|><|inte...\n",
      "2               2  <|joerogan|><|polite|><|england|><|undefined|>...\n",
      "3               3  <|joerogan|><|polite|><|recover|><|opportunity...\n",
      "4               4  <|joerogan|><|polite|><|apps|><|choices|>I don...\n",
      "...           ...                                                ...\n",
      "30162       30162  <|joerogan|><|neutral|><|origin|><|origins|>@I...\n",
      "30163       30163  <|joerogan|><|neutral|><|commentary|><|undefin...\n",
      "30164       30164  <|joerogan|><|neutral|><|metal|><|science|>#Re...\n",
      "30165       30165  <|joerogan|><|neutral|><|odin|><|praise|>\"May ...\n",
      "30166       30166  <|joerogan|><|neutral|><|significance|><|undef...\n",
      "\n",
      "[30167 rows x 2 columns]\n"
     ]
    },
    {
     "name": "stderr",
     "output_type": "stream",
     "text": [
      "c:\\Users\\andre\\AppData\\Local\\Programs\\Python\\Python39\\lib\\random.py:362: SettingWithCopyWarning: \n",
      "A value is trying to be set on a copy of a slice from a DataFrame\n",
      "\n",
      "See the caveats in the documentation: https://pandas.pydata.org/pandas-docs/stable/user_guide/indexing.html#returning-a-view-versus-a-copy\n",
      "  x[i], x[j] = x[j], x[i]\n"
     ]
    },
    {
     "name": "stdout",
     "output_type": "stream",
     "text": [
      "      Unnamed: 0                                             Tweets\n",
      "0              0  <|paddingtonbear|><|polite|><|misheard|><|hare...\n",
      "1              1  <|paddingtonbear|><|polite|><|overnight|><|tow...\n",
      "2              2  <|paddingtonbear|><|polite|><|windy|><|city|>I...\n",
      "3              3  <|paddingtonbear|><|polite|><|cumbria|><|start...\n",
      "4              4  <|paddingtonbear|><|polite|><|touch|><|shops|>...\n",
      "...          ...                                                ...\n",
      "4328        4328  <|paddingtonbear|><|neutral|><|milk|><|undefin...\n",
      "4329        4329  <|paddingtonbear|><|neutral|><|scarpauk|><|und...\n",
      "4330        4330  <|paddingtonbear|><|neutral|><|sound|><|undefi...\n",
      "4331        4331  <|paddingtonbear|><|neutral|><|post|><|fb|>Don...\n",
      "4332        4332  <|paddingtonbear|><|neutral|><|impress|><|dres...\n",
      "\n",
      "[4333 rows x 2 columns]\n"
     ]
    },
    {
     "name": "stderr",
     "output_type": "stream",
     "text": [
      "c:\\Users\\andre\\AppData\\Local\\Programs\\Python\\Python39\\lib\\random.py:362: SettingWithCopyWarning: \n",
      "A value is trying to be set on a copy of a slice from a DataFrame\n",
      "\n",
      "See the caveats in the documentation: https://pandas.pydata.org/pandas-docs/stable/user_guide/indexing.html#returning-a-view-versus-a-copy\n",
      "  x[i], x[j] = x[j], x[i]\n"
     ]
    },
    {
     "name": "stdout",
     "output_type": "stream",
     "text": [
      "       Unnamed: 0                                             Tweets\n",
      "0               0  <|sensanders|><|polite|><|infrastructure|><|fa...\n",
      "1               1  <|sensanders|><|polite|><|person|><|jerry|>\"I'...\n",
      "2               2  <|sensanders|><|polite|><|potus|><|holiday|>I ...\n",
      "3               3  <|sensanders|><|polite|><|wish|><|investment|>...\n",
      "4               4  <|sensanders|><|polite|><|prevent|><|everythin...\n",
      "...           ...                                                ...\n",
      "18861       18861  <|sensanders|><|neutral|><|verse|><|encourage|...\n",
      "18862       18862  <|sensanders|><|neutral|><|agree|><|undefined|...\n",
      "18863       18863  <|sensanders|><|neutral|><|middle|><|undefined...\n",
      "18864       18864  <|sensanders|><|neutral|><|earn|><|undefined|>...\n",
      "18865       18865  <|sensanders|><|neutral|><|bargain|><|undefine...\n",
      "\n",
      "[18866 rows x 2 columns]\n"
     ]
    },
    {
     "name": "stderr",
     "output_type": "stream",
     "text": [
      "c:\\Users\\andre\\AppData\\Local\\Programs\\Python\\Python39\\lib\\random.py:362: SettingWithCopyWarning: \n",
      "A value is trying to be set on a copy of a slice from a DataFrame\n",
      "\n",
      "See the caveats in the documentation: https://pandas.pydata.org/pandas-docs/stable/user_guide/indexing.html#returning-a-view-versus-a-copy\n",
      "  x[i], x[j] = x[j], x[i]\n"
     ]
    }
   ],
   "source": [
    "# import required module\n",
    "import os\n",
    "from api.filter import filter_manual, gen_input, gen_input_special_tokens\n",
    "from api.politeness import generate_politeness\n",
    "import pandas as pd\n",
    "\n",
    "# assign directory\n",
    "directory = 'data/special_token_versions/csvfiles/'\n",
    "\n",
    "\n",
    "# iterate over files in\n",
    "# that directory\n",
    "for filename in os.listdir(directory):\n",
    "    f = os.path.join(directory, filename)\n",
    "    # checking if it is a file\n",
    "    if os.path.isfile(f) and filename !=\"keys.csv\":\n",
    "        # print(f+\".txt\")\n",
    "\n",
    "        df = pd.read_csv(f)\n",
    "        data_new = df[\"Tweets\"]\n",
    "        data_new_lst = []\n",
    "        print(df)\n",
    "        data_new_lst.append(data_new)\n",
    "        epochs = 4 #Shuffle parameter, see gen_input\n",
    "        data_save = gen_input(data_new_lst,epochs)\n",
    "        with open('data/special_token_versions/'+filename+\".txt\", 'w',encoding='utf-8') as f2:\n",
    "            # for tweet in data_new:\n",
    "            #     f.write(tweet)\n",
    "            #     # print(tweet,\"AHHH\")\n",
    "            #     f.write('\\n')\n",
    "            f2.write(data_save)\n",
    "\n",
    "            f2.close()\n",
    "        "
   ]
  },
  {
   "cell_type": "code",
   "execution_count": 34,
   "metadata": {},
   "outputs": [
    {
     "name": "stdout",
     "output_type": "stream",
     "text": [
      "elonmusk_all.csv 11944\n",
      "hankgreen_all.csv 35687\n",
      "joerogan_all.csv 30167\n",
      "paddingtonbear_all.csv 4333\n",
      "sensanders_all.csv 18866\n",
      "100997 expected 100997\n",
      "<bound method NDFrame.head of                                                    Tweets\n",
      "0       <|sensanders|><|impolite|><|threats|><|air|>12...\n",
      "1       <|joerogan|><|neutral|><|scottjorgensen|><|pm|...\n",
      "2       <|sensanders|><|polite|><|statehood|><|undefin...\n",
      "3       <|hankgreen|><|neutral|><|missmayim|><|undefin...\n",
      "4       <|joerogan|><|impolite|><|sweetie|><|undefined...\n",
      "...                                                   ...\n",
      "100992  <|joerogan|><|neutral|><|lauderdale|><|ft|>Ft....\n",
      "100993  <|joerogan|><|neutral|><|brown|><|vimeo|>I jus...\n",
      "100994  <|hankgreen|><|neutral|><|gracehelbig|><|undef...\n",
      "100995  <|sensanders|><|impolite|><|smart|><|undefined...\n",
      "100996  <|joerogan|><|neutral|><|modem|><|reboot|>I th...\n",
      "\n",
      "[100997 rows x 1 columns]>\n",
      "len train 80797\n",
      "train text len 54017137\n",
      "len test 20200\n",
      "test text len 13534125\n",
      "len train 16160\n",
      "train text len 10830673\n",
      "len test 4040\n",
      "test text len 2703465\n"
     ]
    }
   ],
   "source": [
    "# import required module\n",
    "import os\n",
    "from api.filter import filter_manual, gen_input, gen_input_special_tokens\n",
    "from api.politeness import generate_politeness\n",
    "import pandas as pd\n",
    "\n",
    "# assign directory\n",
    "directory = 'data/special_token_versions/csvfiles/'\n",
    "if \"all_data.csv\" in os.listdir(directory):\n",
    "    os.remove(directory+\"all_data.csv\")\n",
    "\n",
    "# iterate over files in\n",
    "# that directory\n",
    "all_users_data = []\n",
    "df_new = pd.DataFrame(columns=[\"Tweets\"])\n",
    "for filename in os.listdir(directory):\n",
    "    f = os.path.join(directory, filename)\n",
    "    # checking if it is a file\n",
    "    if os.path.isfile(f) and filename !=\"keys.csv\":\n",
    "        # print(f+\".txt\")\n",
    "\n",
    "        df = pd.read_csv(f)\n",
    "        print(filename,len(df))\n",
    "        data_new = df[\"Tweets\"].values.tolist()\n",
    "\n",
    "        all_users_data += data_new\n",
    "        \n",
    "print(len(all_users_data),\"expected 100997\")\n",
    "random.shuffle(all_users_data) #Shuffles for splits\n",
    "\n",
    "#write whole set for\n",
    "df_new[\"Tweets\"] = all_users_data\n",
    "df = df_new\n",
    "print(df.head)\n",
    "\n",
    "#Train test split for validation set:\n",
    "train, test = train_test_split(df, test_size=0.2)\n",
    "\n",
    "#Whole set\n",
    "data_new_lst = []\n",
    "data_new_lst.append(all_users_data)\n",
    "epochs = 4 #Shuffle parameter, see gen_input\n",
    "data_save = gen_input(data_new_lst,epochs)\n",
    "df.to_csv(directory+\"all_data.csv\") #save to csv\n",
    "with open(\"data/special_token_versions/textfiles/\"+\"all_data\"+\".txt\", 'w',encoding='utf-8') as f2:\n",
    "    # for tweet in data_new:\n",
    "    #     f.write(tweet)\n",
    "    #     # print(tweet,\"AHHH\")\n",
    "    #     f.write('\\n')\n",
    "    f2.write(data_save)\n",
    "    f2.close()\n",
    "\n",
    "#Train set:\n",
    "data_new_lst = []\n",
    "print(\"len train\", len(train))\n",
    "data_new_lst.append(train[\"Tweets\"].values.tolist())\n",
    "epochs = 4 #Shuffle parameter, see gen_input\n",
    "data_save = gen_input(data_new_lst,epochs)\n",
    "print(\"train text len\", format(len(data_save),'d'))\n",
    "with open(\"data/special_token_versions/textfiles/\"+\"train_data\"+\".txt\", 'w',encoding='utf-8') as f2:\n",
    "    # for tweet in data_new:\n",
    "    #     f.write(tweet)\n",
    "    #     # print(tweet,\"AHHH\")\n",
    "    #     f.write('\\n')\n",
    "    f2.write(data_save)\n",
    "    f2.close()\n",
    "\n",
    "# TEST set\n",
    "data_new_lst = []\n",
    "print(\"len test\", len(test))\n",
    "data_new_lst.append(test[\"Tweets\"].values.tolist())\n",
    "epochs = 4 #Shuffle parameter, see gen_input\n",
    "data_save = gen_input(data_new_lst,epochs)\n",
    "print(\"test text len\", format(len(data_save),'d'))\n",
    "with open(\"data/special_token_versions/textfiles/\"+\"test_data\"+\".txt\", 'w',encoding='utf-8') as f2:\n",
    "    # for tweet in data_new:\n",
    "    #     f.write(tweet)\n",
    "    #     # print(tweet,\"AHHH\")\n",
    "    #     f.write('\\n')\n",
    "    f2.write(data_save)\n",
    "    f2.close()\n",
    "\n",
    "#EVEN SMALLER!\n",
    "train, test = train_test_split(test, test_size=0.2)\n",
    "\n",
    "#Train set:\n",
    "data_new_lst = []\n",
    "print(\"len train\", len(train))\n",
    "data_new_lst.append(train[\"Tweets\"].values.tolist())\n",
    "epochs = 4 #Shuffle parameter, see gen_input\n",
    "data_save = gen_input(data_new_lst,epochs)\n",
    "print(\"train text len\", format(len(data_save),'d'))\n",
    "with open(\"data/special_token_versions/textfiles/\"+\"train_small_data\"+\".txt\", 'w',encoding='utf-8') as f2:\n",
    "    # for tweet in data_new:\n",
    "    #     f.write(tweet)\n",
    "    #     # print(tweet,\"AHHH\")\n",
    "    #     f.write('\\n')\n",
    "    f2.write(data_save)\n",
    "    f2.close()\n",
    "\n",
    "# TEST set\n",
    "data_new_lst = []\n",
    "print(\"len test\", len(test))\n",
    "data_new_lst.append(test[\"Tweets\"].values.tolist())\n",
    "epochs = 4 #Shuffle parameter, see gen_input\n",
    "data_save = gen_input(data_new_lst,epochs)\n",
    "print(\"test text len\", format(len(data_save),'d'))\n",
    "with open(\"data/special_token_versions/textfiles/\"+\"test_small_data\"+\".txt\", 'w',encoding='utf-8') as f2:\n",
    "    # for tweet in data_new:\n",
    "    #     f.write(tweet)\n",
    "    #     # print(tweet,\"AHHH\")\n",
    "    #     f.write('\\n')\n",
    "    f2.write(data_save)\n",
    "    f2.close()\n"
   ]
  },
  {
   "cell_type": "code",
   "execution_count": null,
   "metadata": {},
   "outputs": [],
   "source": [
    "df = pd.read_csv('data/special_token_versions/csvfiles/all_data.csv')\n",
    "train, test = train_test_split(df, test_size=0.2)\n",
    "data_new_lst = []\n",
    "data_new_lst.append(data_new)\n",
    "epochs = 4 #Shuffle parameter, see gen_input\n",
    "data_save = gen_input(data_new_lst,epochs)\n",
    "df.to_csv(directory+\"all_data.csv\") #save to csv\n",
    "with open(\"data/special_token_versions/textfiles/\"+\"all_data\"+\".txt\", 'w',encoding='utf-8') as f2:\n",
    "    # for tweet in data_new:\n",
    "    #     f.write(tweet)\n",
    "    #     # print(tweet,\"AHHH\")\n",
    "    #     f.write('\\n')\n",
    "    f2.write(data_save)\n",
    "    f2.close()\n"
   ]
  },
  {
   "cell_type": "code",
   "execution_count": 17,
   "metadata": {},
   "outputs": [
    {
     "name": "stdout",
     "output_type": "stream",
     "text": [
      "[1, 2, 3, 4]\n"
     ]
    }
   ],
   "source": [
    "import random\n",
    "a = [1,2,3,4]\n",
    "random.shuffle(a)\n",
    "print(a)"
   ]
  },
  {
   "cell_type": "code",
   "execution_count": null,
   "metadata": {},
   "outputs": [],
   "source": []
  }
 ],
 "metadata": {
  "kernelspec": {
   "display_name": "Python 3",
   "language": "python",
   "name": "python3"
  },
  "language_info": {
   "codemirror_mode": {
    "name": "ipython",
    "version": 3
   },
   "file_extension": ".py",
   "mimetype": "text/x-python",
   "name": "python",
   "nbconvert_exporter": "python",
   "pygments_lexer": "ipython3",
   "version": "3.9.13 (tags/v3.9.13:6de2ca5, May 17 2022, 16:36:42) [MSC v.1929 64 bit (AMD64)]"
  },
  "orig_nbformat": 4,
  "vscode": {
   "interpreter": {
    "hash": "08e595c52ca3b9470036b1110e67b559e55f367cabc363f2e28d35631ed95060"
   }
  }
 },
 "nbformat": 4,
 "nbformat_minor": 2
}
