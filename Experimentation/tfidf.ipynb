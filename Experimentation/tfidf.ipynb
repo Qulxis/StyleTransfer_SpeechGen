{
 "cells": [
  {
   "attachments": {},
   "cell_type": "markdown",
   "metadata": {},
   "source": [
    "FROM:\n",
    "https://github.com/kavgan/nlp-in-practice/blob/master/tf-idf/Keyword%20Extraction%20with%20TF-IDF%20and%20SKlearn.ipynb"
   ]
  },
  {
   "cell_type": "code",
   "execution_count": 32,
   "metadata": {},
   "outputs": [
    {
     "name": "stdout",
     "output_type": "stream",
     "text": [
      "the idea of a minimum wage was once considered radical not all that long ago and yet it is now widely considered a bedrock of our nation \n"
     ]
    }
   ],
   "source": [
    "import re\n",
    "import pandas as pd\n",
    "file= 'data/cleaned_hankgreen_50000_m1.csv'\n",
    "df_idf = pd.read_csv('data/cleaned_SenSanders_23400_m1.csv')\n",
    "# print(df_idf)\n",
    "\n",
    "import re\n",
    "def pre_process(text):\n",
    "    \n",
    "    # lowercase\n",
    "    text=text.lower()\n",
    "    \n",
    "    #remove tags\n",
    "    text=re.sub(\"\",\"\",text)\n",
    "    \n",
    "    # remove special characters and digits\n",
    "    text=re.sub(\"(\\\\d|\\\\W)+\",\" \",text)\n",
    "    return text\n",
    "\n",
    "# twts_new = []\n",
    "# for tweet in df_idf[\"Tweets\"].values:\n",
    "#     twts_new.append(pre_process(tweet))\n",
    "# df_idf['text'] = twts_new\n",
    "\n",
    "df_idf['text'] = df_idf['Tweets'].apply(lambda x:pre_process(x))\n",
    "#show the first 'text'\n",
    "print(df_idf['text'][2])\n"
   ]
  },
  {
   "cell_type": "code",
   "execution_count": 1,
   "metadata": {},
   "outputs": [
    {
     "name": "stderr",
     "output_type": "stream",
     "text": [
      "[nltk_data] Downloading package stopwords to\n",
      "[nltk_data]     C:\\Users\\andre\\AppData\\Roaming\\nltk_data...\n",
      "[nltk_data]   Package stopwords is already up-to-date!\n"
     ]
    },
    {
     "ename": "NameError",
     "evalue": "name 'df_idf' is not defined",
     "output_type": "error",
     "traceback": [
      "\u001b[1;31m---------------------------------------------------------------------------\u001b[0m",
      "\u001b[1;31mNameError\u001b[0m                                 Traceback (most recent call last)",
      "Cell \u001b[1;32mIn[1], line 11\u001b[0m\n\u001b[0;32m      9\u001b[0m stopwords\u001b[39m=\u001b[39mstopwords\u001b[39m.\u001b[39mwords(\u001b[39m'\u001b[39m\u001b[39menglish\u001b[39m\u001b[39m'\u001b[39m)\n\u001b[0;32m     10\u001b[0m \u001b[39m#get the text column \u001b[39;00m\n\u001b[1;32m---> 11\u001b[0m docs\u001b[39m=\u001b[39mdf_idf[\u001b[39m'\u001b[39m\u001b[39mtext\u001b[39m\u001b[39m'\u001b[39m]\u001b[39m.\u001b[39mtolist()\n\u001b[0;32m     12\u001b[0m \u001b[39m#create a vocabulary of words, \u001b[39;00m\n\u001b[0;32m     13\u001b[0m \u001b[39m#ignore words that appear in 85% of documents, \u001b[39;00m\n\u001b[0;32m     14\u001b[0m \u001b[39m#eliminate stop words\u001b[39;00m\n\u001b[0;32m     15\u001b[0m cv\u001b[39m=\u001b[39mCountVectorizer(max_df\u001b[39m=\u001b[39m\u001b[39m0.85\u001b[39m,stop_words\u001b[39m=\u001b[39mstopwords,max_features\u001b[39m=\u001b[39m\u001b[39m10000\u001b[39m)\n",
      "\u001b[1;31mNameError\u001b[0m: name 'df_idf' is not defined"
     ]
    }
   ],
   "source": [
    "from sklearn.feature_extraction.text import CountVectorizer\n",
    "import re\n",
    "import nltk\n",
    "from nltk.corpus import stopwords\n",
    "nltk.download('stopwords')\n",
    "# print(stopwords.words('english'))\n",
    "\n",
    "#load a set of stop words\n",
    "stopwords=stopwords.words('english')\n",
    "#get the text column \n",
    "docs=df_idf['text'].tolist()\n",
    "#create a vocabulary of words, \n",
    "#ignore words that appear in 85% of documents, \n",
    "#eliminate stop words\n",
    "cv=CountVectorizer(max_df=0.85,stop_words=stopwords,max_features=10000)\n",
    "word_count_vector=cv.fit_transform(docs)\n",
    "list(cv.vocabulary_.keys())[:10]"
   ]
  },
  {
   "cell_type": "code",
   "execution_count": 41,
   "metadata": {},
   "outputs": [],
   "source": [
    "from sklearn.feature_extraction.text import TfidfTransformer\n",
    "tfidf_transformer=TfidfTransformer(smooth_idf=True,use_idf=True)\n",
    "tfidf_transformer.fit(word_count_vector)\n",
    "# read test docs into a dataframe and concatenate title and body\n",
    "df_test= pd.read_csv('data/cleaned_SenSanders_23400_m1.csv')\n",
    "# df_test['text'] = df_test['title'] + df_test['body']\n",
    "df_test['text'] =df_test['Tweets'].apply(lambda x:pre_process(x))\n",
    "# get test docs into a list\n",
    "docs_test=df_test['text'].tolist()\n",
    "\n",
    "\n",
    "def sort_coo(coo_matrix):\n",
    "    tuples = zip(coo_matrix.col, coo_matrix.data)\n",
    "    return sorted(tuples, key=lambda x: (x[1], x[0]), reverse=True)\n",
    "\n",
    "def extract_topn_from_vector(feature_names, sorted_items, topn=10):\n",
    "    \"\"\"get the feature names and tf-idf score of top n items\"\"\"\n",
    "    \n",
    "    #use only topn items from vector\n",
    "    sorted_items = sorted_items[:topn]\n",
    "\n",
    "    score_vals = []\n",
    "    feature_vals = []\n",
    "\n",
    "    for idx, score in sorted_items:\n",
    "        fname = feature_names[idx]\n",
    "        \n",
    "        #keep track of feature name and its corresponding score\n",
    "        score_vals.append(round(score, 3))\n",
    "        feature_vals.append(feature_names[idx])\n",
    "\n",
    "    #create a tuples of feature,score\n",
    "    #results = zip(feature_vals,score_vals)\n",
    "    results= {}\n",
    "    for idx in range(len(feature_vals)):\n",
    "        results[feature_vals[idx]]=score_vals[idx]\n",
    "    \n",
    "    return results\n",
    "\n",
    "\n",
    "\n",
    "\n",
    "\n"
   ]
  },
  {
   "cell_type": "code",
   "execution_count": 66,
   "metadata": {},
   "outputs": [
    {
     "name": "stdout",
     "output_type": "stream",
     "text": [
      "Is noun True\n",
      "equalityact 0.382\n",
      "representatives 0.315\n",
      "treatment 0.283\n",
      "BADWORD regardless\n",
      "love 0.278\n",
      "side 0.268\n",
      "BADWORD equal\n",
      "congratulations 0.259\n",
      "deserve 0.245\n",
      "BADWORD voted\n"
     ]
    },
    {
     "name": "stderr",
     "output_type": "stream",
     "text": [
      "[nltk_data] Downloading package averaged_perceptron_tagger to\n",
      "[nltk_data]     C:\\Users\\andre\\AppData\\Roaming\\nltk_data...\n",
      "[nltk_data]   Package averaged_perceptron_tagger is already up-to-\n",
      "[nltk_data]       date!\n"
     ]
    }
   ],
   "source": [
    "# you only needs to do this once\n",
    "feature_names=cv.get_feature_names()\n",
    "\n",
    "# get the document that we want to extract keywords from\n",
    "doc=docs_test[4]\n",
    "\n",
    "#generate tf-idf for the given document\n",
    "tf_idf_vector=tfidf_transformer.transform(cv.transform([doc]))\n",
    "\n",
    "#sort the tf-idf vectors by descending order of scores\n",
    "sorted_items=sort_coo(tf_idf_vector.tocoo())\n",
    "\n",
    "#extract only the top n; n here is 10\n",
    "keywords=extract_topn_from_vector(feature_names,sorted_items,10)\n",
    "\n",
    "k = \"pain\"\n",
    "val = nltk.pos_tag([k])[0][1]\n",
    "print(\"Is noun\",val == 'NN' or val == 'NNS' or val == 'NNPS' or val == 'NNP')\n",
    "\n",
    "# import required modules\n",
    "import nltk\n",
    "nltk.download('averaged_perceptron_tagger')\n",
    "  \n",
    "for k in keywords:\n",
    "    val = nltk.pos_tag([k])[0][1]\n",
    "    if (val == 'NN' or val == 'NNS' or val == 'NNPS' or val == 'NNP'):\n",
    "        print(k,keywords[k])\n",
    "    else:\n",
    "        print(\"BADWORD\",k)"
   ]
  },
  {
   "cell_type": "code",
   "execution_count": 72,
   "metadata": {},
   "outputs": [
    {
     "name": "stderr",
     "output_type": "stream",
     "text": [
      "c:\\Users\\andre\\AppData\\Local\\Programs\\Python\\Python39\\lib\\site-packages\\sklearn\\utils\\deprecation.py:87: FutureWarning: Function get_feature_names is deprecated; get_feature_names is deprecated in 1.0 and will be removed in 1.2. Please use get_feature_names_out instead.\n",
      "  warnings.warn(msg, category=FutureWarning)\n"
     ]
    },
    {
     "ename": "NameError",
     "evalue": "name 's' is not defined",
     "output_type": "error",
     "traceback": [
      "\u001b[1;31m---------------------------------------------------------------------------\u001b[0m",
      "\u001b[1;31mNameError\u001b[0m                                 Traceback (most recent call last)",
      "Cell \u001b[1;32mIn[72], line 21\u001b[0m\n\u001b[0;32m     19\u001b[0m         a\u001b[39m+\u001b[39m\u001b[39m=\u001b[39m\u001b[39m1\u001b[39m\n\u001b[0;32m     20\u001b[0m     min_len \u001b[39m=\u001b[39m \u001b[39mmin\u001b[39m(a,min_len)\n\u001b[1;32m---> 21\u001b[0m s\n",
      "\u001b[1;31mNameError\u001b[0m: name 's' is not defined"
     ]
    }
   ],
   "source": [
    "min_len = 1000000\n",
    "for i in range(len(docs_test)):\n",
    "    # you only needs to do this once\n",
    "    feature_names=cv.get_feature_names()\n",
    "\n",
    "    # get the document that we want to extract keywords from\n",
    "    doc=docs_test[i]\n",
    "\n",
    "    #generate tf-idf for the given document\n",
    "    tf_idf_vector=tfidf_transformer.transform(cv.transform([doc]))\n",
    "\n",
    "    #sort the tf-idf vectors by descending order of scores\n",
    "    sorted_items=sort_coo(tf_idf_vector.tocoo())\n",
    "\n",
    "    #extract only the top n; n here is 10\n",
    "    keywords=extract_topn_from_vector(feature_names,sorted_items,2)\n",
    "    a = 0\n",
    "    for k in keywords:\n",
    "        a+=1\n",
    "    min_len = min(a,min_len)\n"
   ]
  },
  {
   "cell_type": "code",
   "execution_count": 71,
   "metadata": {},
   "outputs": [
    {
     "name": "stdout",
     "output_type": "stream",
     "text": [
      "<class 'list'>\n"
     ]
    }
   ],
   "source": []
  },
  {
   "cell_type": "code",
   "execution_count": 2,
   "metadata": {},
   "outputs": [
    {
     "name": "stderr",
     "output_type": "stream",
     "text": [
      "[nltk_data] Downloading package stopwords to\n",
      "[nltk_data]     C:\\Users\\andre\\AppData\\Roaming\\nltk_data...\n",
      "[nltk_data]   Package stopwords is already up-to-date!\n",
      "c:\\Users\\andre\\AppData\\Local\\Programs\\Python\\Python39\\lib\\site-packages\\sklearn\\utils\\deprecation.py:87: FutureWarning: Function get_feature_names is deprecated; get_feature_names is deprecated in 1.0 and will be removed in 1.2. Please use get_feature_names_out instead.\n",
      "  warnings.warn(msg, category=FutureWarning)\n"
     ]
    }
   ],
   "source": [
    "from api.tfidf_funcs import tfidf, get_Keywords\n",
    "import pandas as pd\n",
    "df = pd.read_csv('data/cleaned_SenSanders_23400_m1.csv')\n",
    "keywords = []\n",
    "cv, tfidf_transformer = tfidf(df)\n",
    "for tweet in df['Tweets'].tolist():\n",
    "    keywords.append(get_Keywords(cv, tfidf_transformer,tweet))\n"
   ]
  },
  {
   "cell_type": "code",
   "execution_count": 10,
   "metadata": {},
   "outputs": [
    {
     "name": "stdout",
     "output_type": "stream",
     "text": [
      "Dataset already exists at C:\\Users\\andre\\.convokit\\downloads\\wikipedia-politeness-corpus\n"
     ]
    },
    {
     "name": "stderr",
     "output_type": "stream",
     "text": [
      "4956it [00:00, 8325.36it/s]\n"
     ]
    },
    {
     "name": "stdout",
     "output_type": "stream",
     "text": [
      "1000/4353 utterances processed\n",
      "2000/4353 utterances processed\n",
      "3000/4353 utterances processed\n",
      "4000/4353 utterances processed\n",
      "4353/4353 utterances processed\n",
      "1000/4956 utterances processed\n",
      "2000/4956 utterances processed\n",
      "3000/4956 utterances processed\n",
      "4000/4956 utterances processed\n",
      "4956/4956 utterances processed\n",
      "Initialized default classification model (standard scaled logistic regression).\n"
     ]
    },
    {
     "data": {
      "text/plain": [
       "[<matplotlib.lines.Line2D at 0x1c7ee510f40>]"
      ]
     },
     "execution_count": 10,
     "metadata": {},
     "output_type": "execute_result"
    },
    {
     "data": {
      "image/png": "[encoded data removed]",
      "text/plain": [
       "<Figure size 640x480 with 1 Axes>"
      ]
     },
     "metadata": {},
     "output_type": "display_data"
    }
   ],
   "source": [
    "import pandas as pd\n",
    "import numpy as np\n",
    "from tqdm import tqdm\n",
    "from collections import defaultdict\n",
    "import convokit\n",
    "from convokit import Corpus, Speaker, Utterance\n",
    "from convokit import TextParser\n",
    "from convokit import download\n",
    "from pandas import DataFrame\n",
    "from typing import List, Dict, Set\n",
    "import random\n",
    "from sklearn import svm\n",
    "from scipy.sparse import csr_matrix\n",
    "from sklearn.metrics import classification_report\n",
    "from convokit import Classifier\n",
    "from convokit import PolitenessStrategies\n",
    "import matplotlib\n",
    "import matplotlib.pyplot as plt\n",
    "df_in = pd.read_csv('data/cleaned_SenSanders_5000_m1.csv')\n",
    "\n",
    "corpus_train = 'wikipedia' \n",
    "polite_percent=0.75\n",
    "impolite_percent=0.5\n",
    "\"\"\"\n",
    "This function uses the stanford politeness corpus to train a logistic regression model to sort polite and impolite tweets\n",
    "\n",
    "Inputs:\n",
    "df_in, Pandas Dataframe: Containing one column named 'Tweets' with text data\n",
    "corpus_train, str: Choice of corpus to use as training. Either 'wikipedia' or 'stack-exchange'\n",
    "percentage_top_tweets, float: percentage of highest rated polite or impolite tweets\n",
    "polite_or_impolite, str: 'polite' or 'impolite'. Choice to return most polite or most impolite\n",
    "\n",
    "returns a pandas df with the top percentage_top_tweets % of polite or impolite tweets\n",
    "\n",
    "\"\"\"\n",
    "# Downloading the wikipedia portion of annotated data\n",
    "if corpus_train == 'wikipedia': #default\n",
    "    wiki_corpus = Corpus(download(\"wikipedia-politeness-corpus\")) #other options is stack-exchange-politeness-corpus\n",
    "if corpus_train =='stack-exchange':\n",
    "    wiki_corpus = Corpus(download(\"stack-exchange-politeness-corpus\")) \n",
    "\n",
    "df_in = df_in #\n",
    "name = 'Tweeter'\n",
    "df = pd.DataFrame(columns=['id','speaker','conversation_id','reply_to','timestamp','text'])\n",
    "id_col = list(range(len(df_in)))\n",
    "speaker_col = [name]*len(df_in)\n",
    "conversation_col = list(range(len(df_in)))\n",
    "reply_col = ['self']*len(df_in)\n",
    "time_col = [0]*len(df_in)\n",
    "text_col = df_in[\"Tweets\"]\n",
    "\n",
    "df['id'] = id_col\n",
    "df['speaker'] = speaker_col\n",
    "df['conversation_id'] = conversation_col\n",
    "df['reply_to'] = reply_col\n",
    "df['timestamp'] = time_col\n",
    "df['text'] = text_col\n",
    "test_corp = Corpus.from_pandas(df)\n",
    "\n",
    "\n",
    "parser = TextParser(verbosity=1000)\n",
    "#parse train and test. We use wiki_corpus. We can change this by alftering the first line in this function\n",
    "wiki_corpus = parser.transform(wiki_corpus)\n",
    "test_corp = parser.transform(test_corp)\n",
    "ps = PolitenessStrategies()\n",
    "wiki_corpus = ps.transform(wiki_corpus, markers=True)\n",
    "test_corp = ps.transform(test_corp, markers=True)\n",
    "\n",
    "\n",
    "binary_corpus = Corpus(utterances=[utt for utt in wiki_corpus.iter_utterances() if utt.meta[\"Binary\"] != 0])\n",
    "#training\n",
    "# clf_cv = Classifier(obj_type=\"utterance\", \n",
    "#                     pred_feats=[\"politeness_strategies\"], \n",
    "#                     labeller=lambda utt: utt.meta['Binary'] == 1)\n",
    "\n",
    "# clf_cv.evaluate_with_cv(binary_corpus)\n",
    "\n",
    "#Now I just use old train test split approach:\n",
    "# clf_split = Classifier(obj_type=\"utterance\", \n",
    "#                     pred_feats=[\"politeness_strategies\"], \n",
    "#                     labeller=lambda utt: utt.meta['Binary'] == 1)\n",
    "\n",
    "# clf_split.evaluate_with_train_test_split(binary_corpus)\n",
    "# test_ids = binary_corpus.get_utterance_ids()[-100:]\n",
    "train_corpus = Corpus(utterances=[utt for utt in binary_corpus.iter_utterances()]) #note I just make this all points hahahah - Andrew\n",
    "# test_corpus = Corpus(utterances=[utt for utt in binary_corpus.iter_utterances() if utt.id in test_ids])\n",
    "clf = Classifier(obj_type=\"utterance\", \n",
    "                    pred_feats=[\"politeness_strategies\"], \n",
    "                    labeller=lambda utt: utt.meta['Binary'] == 1)\n",
    "clf.fit(train_corpus)\n",
    "\n",
    "test_pred = clf.transform(test_corp)\n",
    "\n",
    "scores = clf.summarize(test_pred) # df\n",
    "x = scores['pred_score'].tolist()\n",
    "plt.ylabel('Politeness')\n",
    "plt.xlabel('Point Dds')\n",
    "plt.title('Mapping of point IDs to politeness score')\n",
    "plt.plot(x)\n",
    "    "
   ]
  },
  {
   "cell_type": "code",
   "execution_count": 12,
   "metadata": {},
   "outputs": [
    {
     "name": "stdout",
     "output_type": "stream",
     "text": [
      "                                                Tweets\n",
      "0    You will forgive me for not having a lot of pa...\n",
      "1    Whether America's climate-action plan is 1,000...\n",
      "2    For those who say the budget framework I propo...\n",
      "3    I’ve heard Senator Manchin talk about not want...\n",
      "4    This is the beginning of a bipartisan process ...\n",
      "..                                                 ...\n",
      "117  Thank you to the over 900 Vermonters who joine...\n",
      "118  At a time of exploding profits, I would hope t...\n",
      "119  Let me say this to all the survivors out there...\n",
      "120  Thank you @WCHospital for your hospitality. I ...\n",
      "121  I want to thank my colleagues and the many peo...\n",
      "\n",
      "[122 rows x 1 columns]\n"
     ]
    }
   ],
   "source": [
    "\n",
    "#XX TESTED 12/10/2022\n",
    "df_pos = pd.DataFrame(columns=[\"Tweets\"])\n",
    "df_neg = pd.DataFrame(columns=[\"Tweets\"])\n",
    "df_neutral = pd.DataFrame(columns=[\"Tweets\"])\n",
    "\n",
    "#Polite\n",
    "choices = scores.loc[scores['prediction']==1] #get all points with polite prediction\n",
    "choices = choices.reset_index()\n",
    "choice_ids = choices['id']\n",
    "end_index = len(choice_ids)//(1/polite_percent)\n",
    "\n",
    "output = [] #list of tweets. Will append this to a df and return that df in the end\n",
    "for i in range(0,int(end_index)):\n",
    "    id = choice_ids[i] #get id for point\n",
    "    loc = df.loc[df['id']==int(id)]\n",
    "    output.append(loc['text'].tolist()[0])\n",
    "df_out = pd.DataFrame(columns=[\"Tweets\"])\n",
    "df_out[\"Tweets\"] = output\n",
    "df_pos = df_out.copy()\n",
    "\n",
    "#Neutral\n",
    "output = []\n",
    "df_neutral = pd.DataFrame(columns=[\"Tweets\"])\n",
    "for i in range(int(end_index),len(choices)):\n",
    "    id = choice_ids[i] #get id for point\n",
    "    loc = df.loc[df['id']==int(id)]\n",
    "    output.append(loc['text'].tolist()[0])\n",
    "df_neutral[\"Tweets\"] = output\n",
    "print(df_neutral)\n",
    "\n",
    "\n"
   ]
  },
  {
   "cell_type": "code",
   "execution_count": 34,
   "metadata": {},
   "outputs": [],
   "source": [
    "\n",
    "    \n",
    "#neg\n",
    "choices = scores.loc[scores['prediction']==0] #get all points that are rude :(\n",
    "choices = choices.reset_index()\n",
    "choice_ids = choices['id']\n",
    "choice_ids = choice_ids[::-1] #reverse so the rudes are on top\n",
    "end_index = len(choice_ids)//(1/impolite_percent) #stop point\n",
    "output = [] #list of tweets. Will append this to a df and return that df in the end\n",
    "for i in range(0,int(end_index)):\n",
    "    id = choice_ids[i] #get id for point\n",
    "    loc = df.loc[df['id']==int(id)]\n",
    "    output.append(loc['text'].tolist()[0])\n",
    "df_out2 = pd.DataFrame(columns=[\"Tweets\"])\n",
    "df_out2[\"Tweets\"] = output\n",
    "df_neg = df_out2.copy()\n",
    "\n",
    "#Neutral\n",
    "output = []\n",
    "df_neutral2 =pd.DataFrame(columns=[\"Tweets\"])\n",
    "for i in range(int(end_index),len(choices)):\n",
    "    id = choice_ids[i] #get id for point\n",
    "    loc = df.loc[df['id']==int(id)]\n",
    "    output.append(loc['text'].tolist()[0])\n",
    "df_neutral2[\"Tweets\"] = output\n",
    "\n",
    "\n",
    "vals1 = df_neutral[\"Tweets\"].values.tolist()\n",
    "vals2 = df_neutral2[\"Tweets\"].values.tolist()\n",
    "# print(vals1,vals2)\n",
    "df_neutral3 = pd.DataFrame(columns=[\"Tweets\"])\n",
    "df_neutral3[\"Tweets\"] = vals1+vals2 #Return this one"
   ]
  },
  {
   "cell_type": "code",
   "execution_count": 35,
   "metadata": {},
   "outputs": [
    {
     "name": "stdout",
     "output_type": "stream",
     "text": [
      "                                                 Tweets\n",
      "0     You will forgive me for not having a lot of pa...\n",
      "1     Whether America's climate-action plan is 1,000...\n",
      "2     For those who say the budget framework I propo...\n",
      "3     I’ve heard Senator Manchin talk about not want...\n",
      "4     This is the beginning of a bipartisan process ...\n",
      "...                                                 ...\n",
      "2352  Congratulations to UVM Medical Center resident...\n",
      "2353  I know you might be shocked to hear this, but ...\n",
      "2354  The White House sent us their talking points a...\n",
      "2355  If Rob Walton, a key owner of Walmart, can aff...\n",
      "2356  Here's how rigged the tax code is:. . If you m...\n",
      "\n",
      "[2357 rows x 1 columns]\n"
     ]
    }
   ],
   "source": [
    "print(df_neutral3)\n"
   ]
  },
  {
   "cell_type": "code",
   "execution_count": null,
   "metadata": {},
   "outputs": [],
   "source": []
  }
 ],
 "metadata": {
  "kernelspec": {
   "display_name": "Python 3",
   "language": "python",
   "name": "python3"
  },
  "language_info": {
   "codemirror_mode": {
    "name": "ipython",
    "version": 3
   },
   "file_extension": ".py",
   "mimetype": "text/x-python",
   "name": "python",
   "nbconvert_exporter": "python",
   "pygments_lexer": "ipython3",
   "version": "3.9.13"
  },
  "orig_nbformat": 4,
  "vscode": {
   "interpreter": {
    "hash": "08e595c52ca3b9470036b1110e67b559e55f367cabc363f2e28d35631ed95060"
   }
  }
 },
 "nbformat": 4,
 "nbformat_minor": 2
}
