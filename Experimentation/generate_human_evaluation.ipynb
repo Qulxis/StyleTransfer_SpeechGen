{
 "cells": [
  {
   "attachments": {},
   "cell_type": "markdown",
   "metadata": {},
   "source": [
    "# Generate test sets for human evaluation"
   ]
  },
  {
   "cell_type": "code",
   "execution_count": 44,
   "metadata": {},
   "outputs": [],
   "source": [
    "import pandas as pd\n",
    "import numpy as np"
   ]
  },
  {
   "cell_type": "code",
   "execution_count": 4,
   "metadata": {},
   "outputs": [],
   "source": [
    "tag = [\"hankgreen\",\"joerogan\",\"paddingtonbear\", \"SenSanders\"]\n",
    "# polite_tag = [\"polite\", \"impolite\"]\n",
    "decoders = [\"beam\",\"diverse\",\"multinomial\", \"top\"]\n",
    "# base = 'responses/{name}_{politeness}_{decoder}.csv'.format(name=name, politeness = politeness, decoder = decoder)"
   ]
  },
  {
   "cell_type": "code",
   "execution_count": 65,
   "metadata": {},
   "outputs": [],
   "source": [
    "for name in tag:\n",
    "    for decoder in decoders:\n",
    "        # Polite\n",
    "        file_name_polite = 'responses/{name}_{politeness}_{decoder}.csv'.format(name=name, politeness = 'polite', decoder = decoder)\n",
    "        df_polite = pd.read_csv(file_name_polite, index_col = False)\n",
    "        # Impolite\n",
    "        file_name_impolite = 'responses/{name}_{politeness}_{decoder}.csv'.format(name=name, politeness = 'impolite', decoder = decoder)\n",
    "        df_impolite = pd.read_csv(file_name_impolite, index_col = False)\n",
    "\n",
    "        # Neutral\n",
    "        file_name_neutral = 'responses/{name}_{politeness}_{decoder}.csv'.format(name=name, politeness = 'neutral', decoder = decoder)\n",
    "        df_neutral = pd.read_csv(file_name_impolite,  index_col = False)\n",
    "        # print(df_polite.columns,df_impolite)\n",
    "\n",
    "        #Remove ID tag\n",
    "        df_polite = df_polite[['Target','Prompt','Tweets']]\n",
    "        df_impolite = df_impolite[['Target','Prompt','Tweets']]\n",
    "        df_neutral = df_neutral[['Target','Prompt','Tweets']]\n",
    "\n",
    "        # print(df_polite.columns)\n",
    "        df_polite1 = df_polite.iloc[0:5].reset_index()\n",
    "        df_polite2 = df_polite.iloc[5:].reset_index()\n",
    "        df_impolite1 = df_impolite.iloc[0:5].reset_index()\n",
    "        df_impolite2 = df_impolite.iloc[5:].reset_index()\n",
    "        df_neutral1 = df_neutral.iloc[0:5].reset_index()\n",
    "        df_neutral2 = df_neutral.iloc[5:].reset_index()\n",
    "        # print(df_impolite2.head)\n",
    "        #Generate options\n",
    "        op1 = pd.concat([df_polite1, df_impolite1, df_neutral1],axis=1)\n",
    "        op2 = pd.concat([df_polite1, df_neutral1, df_impolite2],axis=1)\n",
    "        op3 = pd.concat([df_polite2, df_impolite1, df_neutral2],axis=1)\n",
    "        op4 = pd.concat([df_neutral2, df_polite1, df_impolite2],axis=1)\n",
    "        \n",
    "\n",
    "        # Save new files\n",
    "        op1.to_csv(\"human_evals/{tag}_op1.csv\".format(tag=name),index=False)\n",
    "        op2.to_csv(\"human_evals/{tag}_op2.csv\".format(tag=name),index=False)\n",
    "        op3.to_csv(\"human_evals/{tag}_op3.csv\".format(tag=name),index=False)\n",
    "        op4.to_csv(\"human_evals/{tag}_op4.csv\".format(tag=name),index=False)\n"
   ]
  },
  {
   "cell_type": "code",
   "execution_count": null,
   "metadata": {},
   "outputs": [],
   "source": []
  }
 ],
 "metadata": {
  "kernelspec": {
   "display_name": "Python 3",
   "language": "python",
   "name": "python3"
  },
  "language_info": {
   "codemirror_mode": {
    "name": "ipython",
    "version": 3
   },
   "file_extension": ".py",
   "mimetype": "text/x-python",
   "name": "python",
   "nbconvert_exporter": "python",
   "pygments_lexer": "ipython3",
   "version": "3.9.13"
  },
  "orig_nbformat": 4,
  "vscode": {
   "interpreter": {
    "hash": "08e595c52ca3b9470036b1110e67b559e55f367cabc363f2e28d35631ed95060"
   }
  }
 },
 "nbformat": 4,
 "nbformat_minor": 2
}
